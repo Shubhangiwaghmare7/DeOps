{
  "cells": [
    {
      "cell_type": "code",
      "execution_count": 1,
      "id": "xAyIgFsskPKA7Bu4sntKpiQL",
      "metadata": {
        "colab": {
          "base_uri": "https://localhost:8080/"
        },
        "executionInfo": {
          "elapsed": 11,
          "status": "ok",
          "timestamp": 1715675912263,
          "user": {
            "displayName": "",
            "userId": ""
          },
          "user_tz": -360
        },
        "id": "xAyIgFsskPKA7Bu4sntKpiQL",
        "outputId": "0a6ccb89-00f3-42b4-8b91-57b801f9a490",
        "tags": []
      },
      "outputs": [
        {
          "name": "stdout",
          "output_type": "stream",
          "text": [
            "ok\n"
          ]
        }
      ],
      "source": [
        "print(\"ok\")"
      ]
    },
    {
      "cell_type": "code",
      "execution_count": 2,
      "id": "-lhKPA_iQNNG",
      "metadata": {
        "colab": {
          "base_uri": "https://localhost:8080/"
        },
        "executionInfo": {
          "elapsed": 22726,
          "status": "ok",
          "timestamp": 1715676095155,
          "user": {
            "displayName": "",
            "userId": ""
          },
          "user_tz": -360
        },
        "id": "-lhKPA_iQNNG",
        "outputId": "f4da7a80-41b6-4809-8ddd-6947dc1e782c"
      },
      "outputs": [
        {
          "name": "stdout",
          "output_type": "stream",
          "text": [
            "Collecting pypdf2\n",
            "  Downloading pypdf2-3.0.1-py3-none-any.whl (232 kB)\n",
            "\u001b[?25l     \u001b[90m━━━━━━━━━━━━━━━━━━━━━━━━━━━━━━━━━━━━━━━━\u001b[0m \u001b[32m0.0/232.6 kB\u001b[0m \u001b[31m?\u001b[0m eta \u001b[36m-:--:--\u001b[0m\r\u001b[2K     \u001b[91m━━━━━━━\u001b[0m\u001b[90m╺\u001b[0m\u001b[90m━━━━━━━━━━━━━━━━━━━━━━━━━━━━━━━━\u001b[0m \u001b[32m41.0/232.6 kB\u001b[0m \u001b[31m1.0 MB/s\u001b[0m eta \u001b[36m0:00:01\u001b[0m\r\u001b[2K     \u001b[91m━━━━━━━━━━━━━━━━━━━━━━━━\u001b[0m\u001b[91m╸\u001b[0m\u001b[90m━━━━━━━━━━━━━━━\u001b[0m \u001b[32m143.4/232.6 kB\u001b[0m \u001b[31m2.0 MB/s\u001b[0m eta \u001b[36m0:00:01\u001b[0m\r\u001b[2K     \u001b[90m━━━━━━━━━━━━━━━━━━━━━━━━━━━━━━━━━━━━━━━━\u001b[0m \u001b[32m232.6/232.6 kB\u001b[0m \u001b[31m2.4 MB/s\u001b[0m eta \u001b[36m0:00:00\u001b[0m\n",
            "\u001b[?25hInstalling collected packages: pypdf2\n",
            "Successfully installed pypdf2-3.0.1\n",
            "Requirement already satisfied: google-cloud-aiplatform in /usr/local/lib/python3.10/dist-packages (1.48.0)\n",
            "Requirement already satisfied: google-api-core[grpc]!=2.0.*,!=2.1.*,!=2.2.*,!=2.3.*,!=2.4.*,!=2.5.*,!=2.6.*,!=2.7.*,<3.0.0dev,>=1.34.1 in /usr/local/lib/python3.10/dist-packages (from google-cloud-aiplatform) (2.11.1)\n",
            "Requirement already satisfied: google-auth<3.0.0dev,>=2.14.1 in /usr/local/lib/python3.10/dist-packages (from google-cloud-aiplatform) (2.27.0)\n",
            "Requirement already satisfied: proto-plus<2.0.0dev,>=1.22.0 in /usr/local/lib/python3.10/dist-packages (from google-cloud-aiplatform) (1.23.0)\n",
            "Requirement already satisfied: protobuf!=3.20.0,!=3.20.1,!=4.21.0,!=4.21.1,!=4.21.2,!=4.21.3,!=4.21.4,!=4.21.5,<5.0.0dev,>=3.19.5 in /usr/local/lib/python3.10/dist-packages (from google-cloud-aiplatform) (3.20.3)\n",
            "Requirement already satisfied: packaging>=14.3 in /usr/local/lib/python3.10/dist-packages (from google-cloud-aiplatform) (24.0)\n",
            "Requirement already satisfied: google-cloud-storage<3.0.0dev,>=1.32.0 in /usr/local/lib/python3.10/dist-packages (from google-cloud-aiplatform) (2.8.0)\n",
            "Requirement already satisfied: google-cloud-bigquery!=3.20.0,<4.0.0dev,>=1.15.0 in /usr/local/lib/python3.10/dist-packages (from google-cloud-aiplatform) (3.21.0)\n",
            "Requirement already satisfied: google-cloud-resource-manager<3.0.0dev,>=1.3.3 in /usr/local/lib/python3.10/dist-packages (from google-cloud-aiplatform) (1.12.3)\n",
            "Requirement already satisfied: shapely<3.0.0dev in /usr/local/lib/python3.10/dist-packages (from google-cloud-aiplatform) (2.0.4)\n",
            "Requirement already satisfied: pydantic<3 in /usr/local/lib/python3.10/dist-packages (from google-cloud-aiplatform) (1.10.15)\n",
            "Requirement already satisfied: docstring-parser<1 in /usr/local/lib/python3.10/dist-packages (from google-cloud-aiplatform) (0.16)\n",
            "Requirement already satisfied: googleapis-common-protos<2.0.dev0,>=1.56.2 in /usr/local/lib/python3.10/dist-packages (from google-api-core[grpc]!=2.0.*,!=2.1.*,!=2.2.*,!=2.3.*,!=2.4.*,!=2.5.*,!=2.6.*,!=2.7.*,<3.0.0dev,>=1.34.1->google-cloud-aiplatform) (1.63.0)\n",
            "Requirement already satisfied: requests<3.0.0.dev0,>=2.18.0 in /usr/local/lib/python3.10/dist-packages (from google-api-core[grpc]!=2.0.*,!=2.1.*,!=2.2.*,!=2.3.*,!=2.4.*,!=2.5.*,!=2.6.*,!=2.7.*,<3.0.0dev,>=1.34.1->google-cloud-aiplatform) (2.31.0)\n",
            "Requirement already satisfied: grpcio<2.0dev,>=1.33.2 in /usr/local/lib/python3.10/dist-packages (from google-api-core[grpc]!=2.0.*,!=2.1.*,!=2.2.*,!=2.3.*,!=2.4.*,!=2.5.*,!=2.6.*,!=2.7.*,<3.0.0dev,>=1.34.1->google-cloud-aiplatform) (1.62.2)\n",
            "Requirement already satisfied: grpcio-status<2.0.dev0,>=1.33.2 in /usr/local/lib/python3.10/dist-packages (from google-api-core[grpc]!=2.0.*,!=2.1.*,!=2.2.*,!=2.3.*,!=2.4.*,!=2.5.*,!=2.6.*,!=2.7.*,<3.0.0dev,>=1.34.1->google-cloud-aiplatform) (1.48.2)\n",
            "Requirement already satisfied: cachetools<6.0,>=2.0.0 in /usr/local/lib/python3.10/dist-packages (from google-auth<3.0.0dev,>=2.14.1->google-cloud-aiplatform) (5.3.3)\n",
            "Requirement already satisfied: pyasn1-modules>=0.2.1 in /usr/local/lib/python3.10/dist-packages (from google-auth<3.0.0dev,>=2.14.1->google-cloud-aiplatform) (0.4.0)\n",
            "Requirement already satisfied: rsa<5,>=3.1.4 in /usr/local/lib/python3.10/dist-packages (from google-auth<3.0.0dev,>=2.14.1->google-cloud-aiplatform) (4.9)\n",
            "Requirement already satisfied: google-cloud-core<3.0.0dev,>=1.6.0 in /usr/local/lib/python3.10/dist-packages (from google-cloud-bigquery!=3.20.0,<4.0.0dev,>=1.15.0->google-cloud-aiplatform) (2.3.3)\n",
            "Requirement already satisfied: google-resumable-media<3.0dev,>=0.6.0 in /usr/local/lib/python3.10/dist-packages (from google-cloud-bigquery!=3.20.0,<4.0.0dev,>=1.15.0->google-cloud-aiplatform) (2.7.0)\n",
            "Requirement already satisfied: python-dateutil<3.0dev,>=2.7.2 in /usr/local/lib/python3.10/dist-packages (from google-cloud-bigquery!=3.20.0,<4.0.0dev,>=1.15.0->google-cloud-aiplatform) (2.8.2)\n",
            "Requirement already satisfied: grpc-google-iam-v1<1.0.0dev,>=0.12.4 in /usr/local/lib/python3.10/dist-packages (from google-cloud-resource-manager<3.0.0dev,>=1.3.3->google-cloud-aiplatform) (0.13.0)\n",
            "Requirement already satisfied: typing-extensions>=4.2.0 in /usr/local/lib/python3.10/dist-packages (from pydantic<3->google-cloud-aiplatform) (4.11.0)\n",
            "Requirement already satisfied: numpy<3,>=1.14 in /usr/local/lib/python3.10/dist-packages (from shapely<3.0.0dev->google-cloud-aiplatform) (1.25.2)\n",
            "Requirement already satisfied: google-crc32c<2.0dev,>=1.0 in /usr/local/lib/python3.10/dist-packages (from google-resumable-media<3.0dev,>=0.6.0->google-cloud-bigquery!=3.20.0,<4.0.0dev,>=1.15.0->google-cloud-aiplatform) (1.5.0)\n",
            "Requirement already satisfied: pyasn1<0.7.0,>=0.4.6 in /usr/local/lib/python3.10/dist-packages (from pyasn1-modules>=0.2.1->google-auth<3.0.0dev,>=2.14.1->google-cloud-aiplatform) (0.6.0)\n",
            "Requirement already satisfied: six>=1.5 in /usr/local/lib/python3.10/dist-packages (from python-dateutil<3.0dev,>=2.7.2->google-cloud-bigquery!=3.20.0,<4.0.0dev,>=1.15.0->google-cloud-aiplatform) (1.16.0)\n",
            "Requirement already satisfied: charset-normalizer<4,>=2 in /usr/local/lib/python3.10/dist-packages (from requests<3.0.0.dev0,>=2.18.0->google-api-core[grpc]!=2.0.*,!=2.1.*,!=2.2.*,!=2.3.*,!=2.4.*,!=2.5.*,!=2.6.*,!=2.7.*,<3.0.0dev,>=1.34.1->google-cloud-aiplatform) (3.3.2)\n",
            "Requirement already satisfied: idna<4,>=2.5 in /usr/local/lib/python3.10/dist-packages (from requests<3.0.0.dev0,>=2.18.0->google-api-core[grpc]!=2.0.*,!=2.1.*,!=2.2.*,!=2.3.*,!=2.4.*,!=2.5.*,!=2.6.*,!=2.7.*,<3.0.0dev,>=1.34.1->google-cloud-aiplatform) (3.7)\n",
            "Requirement already satisfied: urllib3<3,>=1.21.1 in /usr/local/lib/python3.10/dist-packages (from requests<3.0.0.dev0,>=2.18.0->google-api-core[grpc]!=2.0.*,!=2.1.*,!=2.2.*,!=2.3.*,!=2.4.*,!=2.5.*,!=2.6.*,!=2.7.*,<3.0.0dev,>=1.34.1->google-cloud-aiplatform) (2.0.7)\n",
            "Requirement already satisfied: certifi>=2017.4.17 in /usr/local/lib/python3.10/dist-packages (from requests<3.0.0.dev0,>=2.18.0->google-api-core[grpc]!=2.0.*,!=2.1.*,!=2.2.*,!=2.3.*,!=2.4.*,!=2.5.*,!=2.6.*,!=2.7.*,<3.0.0dev,>=1.34.1->google-cloud-aiplatform) (2024.2.2)\n",
            "Requirement already satisfied: google-cloud-storage in /usr/local/lib/python3.10/dist-packages (2.8.0)\n",
            "Requirement already satisfied: google-auth<3.0dev,>=1.25.0 in /usr/local/lib/python3.10/dist-packages (from google-cloud-storage) (2.27.0)\n",
            "Requirement already satisfied: google-api-core!=2.0.*,!=2.1.*,!=2.2.*,!=2.3.0,<3.0.0dev,>=1.31.5 in /usr/local/lib/python3.10/dist-packages (from google-cloud-storage) (2.11.1)\n",
            "Requirement already satisfied: google-cloud-core<3.0dev,>=2.3.0 in /usr/local/lib/python3.10/dist-packages (from google-cloud-storage) (2.3.3)\n",
            "Requirement already satisfied: google-resumable-media>=2.3.2 in /usr/local/lib/python3.10/dist-packages (from google-cloud-storage) (2.7.0)\n",
            "Requirement already satisfied: requests<3.0.0dev,>=2.18.0 in /usr/local/lib/python3.10/dist-packages (from google-cloud-storage) (2.31.0)\n",
            "Requirement already satisfied: googleapis-common-protos<2.0.dev0,>=1.56.2 in /usr/local/lib/python3.10/dist-packages (from google-api-core!=2.0.*,!=2.1.*,!=2.2.*,!=2.3.0,<3.0.0dev,>=1.31.5->google-cloud-storage) (1.63.0)\n",
            "Requirement already satisfied: protobuf!=3.20.0,!=3.20.1,!=4.21.0,!=4.21.1,!=4.21.2,!=4.21.3,!=4.21.4,!=4.21.5,<5.0.0.dev0,>=3.19.5 in /usr/local/lib/python3.10/dist-packages (from google-api-core!=2.0.*,!=2.1.*,!=2.2.*,!=2.3.0,<3.0.0dev,>=1.31.5->google-cloud-storage) (3.20.3)\n",
            "Requirement already satisfied: cachetools<6.0,>=2.0.0 in /usr/local/lib/python3.10/dist-packages (from google-auth<3.0dev,>=1.25.0->google-cloud-storage) (5.3.3)\n",
            "Requirement already satisfied: pyasn1-modules>=0.2.1 in /usr/local/lib/python3.10/dist-packages (from google-auth<3.0dev,>=1.25.0->google-cloud-storage) (0.4.0)\n",
            "Requirement already satisfied: rsa<5,>=3.1.4 in /usr/local/lib/python3.10/dist-packages (from google-auth<3.0dev,>=1.25.0->google-cloud-storage) (4.9)\n",
            "Requirement already satisfied: google-crc32c<2.0dev,>=1.0 in /usr/local/lib/python3.10/dist-packages (from google-resumable-media>=2.3.2->google-cloud-storage) (1.5.0)\n",
            "Requirement already satisfied: charset-normalizer<4,>=2 in /usr/local/lib/python3.10/dist-packages (from requests<3.0.0dev,>=2.18.0->google-cloud-storage) (3.3.2)\n",
            "Requirement already satisfied: idna<4,>=2.5 in /usr/local/lib/python3.10/dist-packages (from requests<3.0.0dev,>=2.18.0->google-cloud-storage) (3.7)\n",
            "Requirement already satisfied: urllib3<3,>=1.21.1 in /usr/local/lib/python3.10/dist-packages (from requests<3.0.0dev,>=2.18.0->google-cloud-storage) (2.0.7)\n",
            "Requirement already satisfied: certifi>=2017.4.17 in /usr/local/lib/python3.10/dist-packages (from requests<3.0.0dev,>=2.18.0->google-cloud-storage) (2024.2.2)\n",
            "Requirement already satisfied: pyasn1<0.7.0,>=0.4.6 in /usr/local/lib/python3.10/dist-packages (from pyasn1-modules>=0.2.1->google-auth<3.0dev,>=1.25.0->google-cloud-storage) (0.6.0)\n"
          ]
        }
      ],
      "source": [
        "# Install some required packages\n",
        "\n",
        "!pip install pypdf2\n",
        "!pip install google-cloud-aiplatform\n",
        "!pip install google-cloud-storage"
      ]
    },
    {
      "cell_type": "code",
      "execution_count": 3,
      "id": "DS-HvxcaQ0Jt",
      "metadata": {
        "executionInfo": {
          "elapsed": 756,
          "status": "ok",
          "timestamp": 1715676247756,
          "user": {
            "displayName": "",
            "userId": ""
          },
          "user_tz": -360
        },
        "id": "DS-HvxcaQ0Jt"
      },
      "outputs": [],
      "source": [
        "from google.cloud import storage\n",
        "from vertexai.language_models import TextEmbeddingModel\n",
        "from google.cloud import aiplatform\n",
        "import PyPDF2\n",
        "\n",
        "import re\n",
        "import os\n",
        "import random\n",
        "import json\n",
        "import uuid\n"
      ]
    },
    {
      "cell_type": "code",
      "execution_count": 4,
      "id": "FA3a46hCSUfS",
      "metadata": {
        "colab": {
          "base_uri": "https://localhost:8080/"
        },
        "executionInfo": {
          "elapsed": 14,
          "status": "ok",
          "timestamp": 1715676471836,
          "user": {
            "displayName": "",
            "userId": ""
          },
          "user_tz": -360
        },
        "id": "FA3a46hCSUfS",
        "outputId": "8df21d10-1041-49d9-9185-73998c807c82"
      },
      "outputs": [
        {
          "name": "stdout",
          "output_type": "stream",
          "text": [
            "stats.pdf\n"
          ]
        }
      ],
      "source": [
        "%ls"
      ]
    },
    {
      "cell_type": "code",
      "execution_count": 5,
      "id": "yiN1GZIuRgTt",
      "metadata": {
        "executionInfo": {
          "elapsed": 726,
          "status": "ok",
          "timestamp": 1715676528267,
          "user": {
            "displayName": "",
            "userId": ""
          },
          "user_tz": -360
        },
        "id": "yiN1GZIuRgTt"
      },
      "outputs": [],
      "source": [
        "# Initialize some variable\n",
        "\n",
        "# project=\"your_GCP_project_id\"\n",
        "location=\"us-central1\"\n",
        "\n",
        "pdf_path=\"stats.pdf\"\n",
        "bucket_name = \"stats-content\"\n",
        "embed_file_path = \"stats_embeddings.json\"\n",
        "sentence_file_path = \"stats_sentences.json\"\n",
        "index_name=\"stats_index\"\n",
        "\n"
      ]
    },
    {
      "cell_type": "code",
      "execution_count": 6,
      "id": "W3ql1eDoRgOq",
      "metadata": {
        "executionInfo": {
          "elapsed": 726,
          "status": "ok",
          "timestamp": 1715676575028,
          "user": {
            "displayName": "",
            "userId": ""
          },
          "user_tz": -360
        },
        "id": "W3ql1eDoRgOq"
      },
      "outputs": [],
      "source": [
        "# helper\n",
        "\n",
        "def extract_sentences_from_pdf(pdf_path):\n",
        "    with open(pdf_path, 'rb') as file:\n",
        "        reader = PyPDF2.PdfReader(file)\n",
        "        text = \"\"\n",
        "        for page in reader.pages:\n",
        "            if page.extract_text() is not None:\n",
        "                text += page.extract_text() + \" \"\n",
        "    sentences = [sentence.strip() for sentence in text.split('. ') if sentence.strip()]\n",
        "    return sentences"
      ]
    },
    {
      "cell_type": "code",
      "execution_count": 7,
      "id": "b0zxZw5TRgMB",
      "metadata": {
        "executionInfo": {
          "elapsed": 749,
          "status": "ok",
          "timestamp": 1715676660912,
          "user": {
            "displayName": "",
            "userId": ""
          },
          "user_tz": -360
        },
        "id": "b0zxZw5TRgMB"
      },
      "outputs": [],
      "source": [
        "def generate_text_embeddings(sentences) -> list:\n",
        "  # aiplatform.init(project=project,location=location)\n",
        "  model = TextEmbeddingModel.from_pretrained(\"textembedding-gecko@001\")\n",
        "  embeddings = model.get_embeddings(sentences)\n",
        "  vectors = [embedding.values for embedding in embeddings]\n",
        "  return vectors"
      ]
    },
    {
      "cell_type": "code",
      "execution_count": 8,
      "id": "pAczat5WRgJQ",
      "metadata": {
        "executionInfo": {
          "elapsed": 755,
          "status": "ok",
          "timestamp": 1715676710444,
          "user": {
            "displayName": "",
            "userId": ""
          },
          "user_tz": -360
        },
        "id": "pAczat5WRgJQ"
      },
      "outputs": [],
      "source": [
        "def generate_and_save_embeddings(pdf_path, sentence_file_path, embed_file_path):\n",
        "    def clean_text(text):\n",
        "        cleaned_text = re.sub(r'\\u2022', '', text)  # Remove bullet points\n",
        "        cleaned_text = re.sub(r'\\s+', ' ', cleaned_text).strip()  # Remove extra whitespaces and strip\n",
        "        return cleaned_text\n",
        "\n",
        "    sentences = extract_sentences_from_pdf(pdf_path)\n",
        "    if sentences:\n",
        "        embeddings = generate_text_embeddings(sentences)\n",
        "\n",
        "        with open(embed_file_path, 'w') as embed_file, open(sentence_file_path, 'w') as sentence_file:\n",
        "            for sentence, embedding in zip(sentences, embeddings):\n",
        "                cleaned_sentence = clean_text(sentence)\n",
        "                id = str(uuid.uuid4())\n",
        "\n",
        "                embed_item = {\"id\": id, \"embedding\": embedding}\n",
        "                sentence_item = {\"id\": id, \"sentence\": cleaned_sentence}\n",
        "\n",
        "                json.dump(sentence_item, sentence_file)\n",
        "                sentence_file.write('\\n')\n",
        "                json.dump(embed_item, embed_file)\n",
        "                embed_file.write('\\n')"
      ]
    },
    {
      "cell_type": "code",
      "execution_count": 9,
      "id": "mLT96tGqTQAV",
      "metadata": {
        "executionInfo": {
          "elapsed": 738,
          "status": "ok",
          "timestamp": 1715676729505,
          "user": {
            "displayName": "",
            "userId": ""
          },
          "user_tz": -360
        },
        "id": "mLT96tGqTQAV"
      },
      "outputs": [],
      "source": [
        "def upload_file(bucket_name,file_path):\n",
        "    storage_client = storage.Client()\n",
        "    bucket = storage_client.create_bucket(bucket_name,location=location)\n",
        "    blob = bucket.blob(file_path)\n",
        "    blob.upload_from_filename(file_path)"
      ]
    },
    {
      "cell_type": "code",
      "execution_count": 10,
      "id": "Ik_nbmIqTUJF",
      "metadata": {
        "executionInfo": {
          "elapsed": 4,
          "status": "ok",
          "timestamp": 1715676821774,
          "user": {
            "displayName": "",
            "userId": ""
          },
          "user_tz": -360
        },
        "id": "Ik_nbmIqTUJF"
      },
      "outputs": [],
      "source": [
        "def create_vector_index(bucket_name, index_name):\n",
        "    lakeside_index = aiplatform.MatchingEngineIndex.create_tree_ah_index(\n",
        "    display_name = index_name,\n",
        "    contents_delta_uri = \"gs://\"+bucket_name,\n",
        "    dimensions = 768,\n",
        "    approximate_neighbors_count = 10,\n",
        "    )\n",
        "\n",
        "    lakeside_index_endpoint = aiplatform.MatchingEngineIndexEndpoint.create(\n",
        "    display_name = index_name,\n",
        "    public_endpoint_enabled = True\n",
        "    )\n",
        "\n",
        "    lakeside_index_endpoint.deploy_index(\n",
        "    index = lakeside_index, deployed_index_id = index_name\n",
        "    )"
      ]
    },
    {
      "cell_type": "code",
      "execution_count": 11,
      "id": "ZysN-9IgTro-",
      "metadata": {
        "executionInfo": {
          "elapsed": 2237,
          "status": "ok",
          "timestamp": 1715676841386,
          "user": {
            "displayName": "",
            "userId": ""
          },
          "user_tz": -360
        },
        "id": "ZysN-9IgTro-"
      },
      "outputs": [],
      "source": [
        "generate_and_save_embeddings(pdf_path,sentence_file_path,embed_file_path)\n",
        "upload_file(bucket_name,sentence_file_path)"
      ]
    },
    {
      "cell_type": "code",
      "execution_count": 12,
      "id": "IdtPLLy6TrmA",
      "metadata": {
        "colab": {
          "base_uri": "https://localhost:8080/",
          "height": 591
        },
        "executionInfo": {
          "elapsed": 26611,
          "status": "error",
          "timestamp": 1715677035203,
          "user": {
            "displayName": "",
            "userId": ""
          },
          "user_tz": -360
        },
        "id": "IdtPLLy6TrmA",
        "outputId": "9c48d642-48c7-4762-8cfc-46da55e8df9a"
      },
      "outputs": [
        {
          "name": "stderr",
          "output_type": "stream",
          "text": [
            "INFO:google.cloud.aiplatform.matching_engine.matching_engine_index:Creating MatchingEngineIndex\n",
            "INFO:google.cloud.aiplatform.matching_engine.matching_engine_index:Create MatchingEngineIndex backing LRO: projects/1060807096482/locations/us-central1/indexes/3439259177543794688/operations/7478939149387431936\n",
            "INFO:google.cloud.aiplatform.matching_engine.matching_engine_index:MatchingEngineIndex created. Resource name: projects/1060807096482/locations/us-central1/indexes/3439259177543794688\n",
            "INFO:google.cloud.aiplatform.matching_engine.matching_engine_index:To use this MatchingEngineIndex in another session:\n",
            "INFO:google.cloud.aiplatform.matching_engine.matching_engine_index:index = aiplatform.MatchingEngineIndex('projects/1060807096482/locations/us-central1/indexes/3439259177543794688')\n",
            "INFO:google.cloud.aiplatform.matching_engine.matching_engine_index_endpoint:Creating MatchingEngineIndexEndpoint\n",
            "INFO:google.cloud.aiplatform.matching_engine.matching_engine_index_endpoint:Create MatchingEngineIndexEndpoint backing LRO: projects/1060807096482/locations/us-central1/indexEndpoints/5030296483400777728/operations/4589879988429258752\n",
            "INFO:google.cloud.aiplatform.matching_engine.matching_engine_index_endpoint:MatchingEngineIndexEndpoint created. Resource name: projects/1060807096482/locations/us-central1/indexEndpoints/5030296483400777728\n",
            "INFO:google.cloud.aiplatform.matching_engine.matching_engine_index_endpoint:To use this MatchingEngineIndexEndpoint in another session:\n",
            "INFO:google.cloud.aiplatform.matching_engine.matching_engine_index_endpoint:index_endpoint = aiplatform.MatchingEngineIndexEndpoint('projects/1060807096482/locations/us-central1/indexEndpoints/5030296483400777728')\n",
            "INFO:google.cloud.aiplatform.matching_engine.matching_engine_index_endpoint:Deploying index MatchingEngineIndexEndpoint index_endpoint: projects/1060807096482/locations/us-central1/indexEndpoints/5030296483400777728\n",
            "INFO:google.cloud.aiplatform.matching_engine.matching_engine_index_endpoint:Deploy index MatchingEngineIndexEndpoint index_endpoint backing LRO: projects/1060807096482/locations/us-central1/indexEndpoints/5030296483400777728/operations/840633298643320832\n"
          ]
        },
        {
          "ename": "ResourceExhausted",
          "evalue": "429 The following quotas are exceeded: MatchingEngineDeployedIndexNodes 8: The following quotas are exceeded: MatchingEngineDeployedIndexNodes",
          "output_type": "error",
          "traceback": [
            "\u001b[0;31m---------------------------------------------------------------------------\u001b[0m",
            "\u001b[0;31mResourceExhausted\u001b[0m                         Traceback (most recent call last)",
            "\u001b[0;32m<ipython-input-12-3c35cc1694de>\u001b[0m in \u001b[0;36m<cell line: 1>\u001b[0;34m()\u001b[0m\n\u001b[0;32m----> 1\u001b[0;31m \u001b[0mcreate_vector_index\u001b[0m\u001b[0;34m(\u001b[0m\u001b[0mbucket_name\u001b[0m\u001b[0;34m,\u001b[0m \u001b[0mindex_name\u001b[0m\u001b[0;34m)\u001b[0m\u001b[0;34m\u001b[0m\u001b[0;34m\u001b[0m\u001b[0m\n\u001b[0m",
            "\u001b[0;32m<ipython-input-10-886c68f23f2d>\u001b[0m in \u001b[0;36mcreate_vector_index\u001b[0;34m(bucket_name, index_name)\u001b[0m\n\u001b[1;32m     12\u001b[0m     )\n\u001b[1;32m     13\u001b[0m \u001b[0;34m\u001b[0m\u001b[0m\n\u001b[0;32m---> 14\u001b[0;31m     lakeside_index_endpoint.deploy_index(\n\u001b[0m\u001b[1;32m     15\u001b[0m     \u001b[0mindex\u001b[0m \u001b[0;34m=\u001b[0m \u001b[0mlakeside_index\u001b[0m\u001b[0;34m,\u001b[0m \u001b[0mdeployed_index_id\u001b[0m \u001b[0;34m=\u001b[0m \u001b[0mindex_name\u001b[0m\u001b[0;34m\u001b[0m\u001b[0;34m\u001b[0m\u001b[0m\n\u001b[1;32m     16\u001b[0m     )\n",
            "\u001b[0;32m/usr/local/lib/python3.10/dist-packages/google/cloud/aiplatform/matching_engine/matching_engine_index_endpoint.py\u001b[0m in \u001b[0;36mdeploy_index\u001b[0;34m(self, index, deployed_index_id, display_name, machine_type, min_replica_count, max_replica_count, enable_access_logging, reserved_ip_ranges, deployment_group, auth_config_audiences, auth_config_allowed_issuers, request_metadata, deploy_request_timeout)\u001b[0m\n\u001b[1;32m   1085\u001b[0m         )\n\u001b[1;32m   1086\u001b[0m \u001b[0;34m\u001b[0m\u001b[0m\n\u001b[0;32m-> 1087\u001b[0;31m         \u001b[0mdeploy_lro\u001b[0m\u001b[0;34m.\u001b[0m\u001b[0mresult\u001b[0m\u001b[0;34m(\u001b[0m\u001b[0mtimeout\u001b[0m\u001b[0;34m=\u001b[0m\u001b[0;32mNone\u001b[0m\u001b[0;34m)\u001b[0m\u001b[0;34m\u001b[0m\u001b[0;34m\u001b[0m\u001b[0m\n\u001b[0m\u001b[1;32m   1088\u001b[0m \u001b[0;34m\u001b[0m\u001b[0m\n\u001b[1;32m   1089\u001b[0m         _LOGGER.log_action_completed_against_resource(\n",
            "\u001b[0;32m/usr/local/lib/python3.10/dist-packages/google/api_core/future/polling.py\u001b[0m in \u001b[0;36mresult\u001b[0;34m(self, timeout, retry, polling)\u001b[0m\n\u001b[1;32m    259\u001b[0m             \u001b[0;31m# pylint: disable=raising-bad-type\u001b[0m\u001b[0;34m\u001b[0m\u001b[0;34m\u001b[0m\u001b[0m\n\u001b[1;32m    260\u001b[0m             \u001b[0;31m# Pylint doesn't recognize that this is valid in this case.\u001b[0m\u001b[0;34m\u001b[0m\u001b[0;34m\u001b[0m\u001b[0m\n\u001b[0;32m--> 261\u001b[0;31m             \u001b[0;32mraise\u001b[0m \u001b[0mself\u001b[0m\u001b[0;34m.\u001b[0m\u001b[0m_exception\u001b[0m\u001b[0;34m\u001b[0m\u001b[0;34m\u001b[0m\u001b[0m\n\u001b[0m\u001b[1;32m    262\u001b[0m \u001b[0;34m\u001b[0m\u001b[0m\n\u001b[1;32m    263\u001b[0m         \u001b[0;32mreturn\u001b[0m \u001b[0mself\u001b[0m\u001b[0;34m.\u001b[0m\u001b[0m_result\u001b[0m\u001b[0;34m\u001b[0m\u001b[0;34m\u001b[0m\u001b[0m\n",
            "\u001b[0;31mResourceExhausted\u001b[0m: 429 The following quotas are exceeded: MatchingEngineDeployedIndexNodes 8: The following quotas are exceeded: MatchingEngineDeployedIndexNodes"
          ]
        }
      ],
      "source": [
        "create_vector_index(bucket_name, index_name)"
      ]
    },
    {
      "cell_type": "code",
      "execution_count": 13,
      "id": "7r0bS5CgTrim",
      "metadata": {
        "executionInfo": {
          "elapsed": 3,
          "status": "ok",
          "timestamp": 1715677176952,
          "user": {
            "displayName": "",
            "userId": ""
          },
          "user_tz": -360
        },
        "id": "7r0bS5CgTrim"
      },
      "outputs": [],
      "source": [
        "from vertexai.language_models import TextEmbeddingModel\n",
        "from google.cloud import aiplatform\n",
        "import vertexai\n",
        "from vertexai.preview.generative_models import GenerativeModel, Part\n",
        "import json\n",
        "import os"
      ]
    },
    {
      "cell_type": "code",
      "execution_count": null,
      "id": "8yuqQZn1Trf9",
      "metadata": {
        "id": "8yuqQZn1Trf9"
      },
      "outputs": [],
      "source": [
        "# project=”YOUR_GCP_PROJECT”\n",
        "location=\"us-central1\"\n",
        "sentence_file_path = \"stats_sentences.json\"\n",
        "index_name=\"stats_index\" #Get this from the console or the previous step"
      ]
    },
    {
      "cell_type": "code",
      "execution_count": 15,
      "id": "svPZiO6-TrdB",
      "metadata": {
        "executionInfo": {
          "elapsed": 709,
          "status": "ok",
          "timestamp": 1715677312022,
          "user": {
            "displayName": "",
            "userId": ""
          },
          "user_tz": -360
        },
        "id": "svPZiO6-TrdB"
      },
      "outputs": [],
      "source": [
        "# aiplatform.init(project=project,location=location)\n",
        "# vertexai.init()\n",
        "model = GenerativeModel(\"gemini-pro\")\n",
        "lakeside_index_ep = aiplatform.MatchingEngineIndexEndpoint(index_endpoint_name=\"5030296483400777728\")"
      ]
    },
    {
      "cell_type": "code",
      "execution_count": 16,
      "id": "xLw-XsroVchD",
      "metadata": {
        "executionInfo": {
          "elapsed": 3,
          "status": "ok",
          "timestamp": 1715677344749,
          "user": {
            "displayName": "",
            "userId": ""
          },
          "user_tz": -360
        },
        "id": "xLw-XsroVchD"
      },
      "outputs": [],
      "source": [
        "def generate_text_embeddings(sentences) -> list:\n",
        "    model = TextEmbeddingModel.from_pretrained(\"textembedding-gecko@001\")\n",
        "    embeddings = model.get_embeddings(sentences)\n",
        "    vectors = [embedding.values for embedding in embeddings]\n",
        "    return vectors\n",
        "\n",
        "\n",
        "def generate_context(ids,data):\n",
        "    concatenated_names = ''\n",
        "    for id in ids:\n",
        "        for entry in data:\n",
        "            if entry['id'] == id:\n",
        "                concatenated_names += entry['sentence'] + \"\\n\"\n",
        "    return concatenated_names.strip()\n",
        "\n",
        "\n",
        "\n",
        "def load_file(sentence_file_path):\n",
        "  data = []\n",
        "  with open(sentence_file_path,'r') as f:\n",
        "    for line in f:\n",
        "      entry = json.loads(line)\n",
        "      data.append(entry)\n",
        "  return data\n",
        "\n",
        "\n",
        "\n"
      ]
    },
    {
      "cell_type": "code",
      "execution_count": 17,
      "id": "nNPnItCqVqw8",
      "metadata": {
        "colab": {
          "base_uri": "https://localhost:8080/"
        },
        "executionInfo": {
          "elapsed": 11,
          "status": "ok",
          "timestamp": 1715677352060,
          "user": {
            "displayName": "",
            "userId": ""
          },
          "user_tz": -360
        },
        "id": "nNPnItCqVqw8",
        "outputId": "d501ad4b-5a84-4dee-8826-37a09bade6be"
      },
      "outputs": [
        {
          "data": {
            "text/plain": [
              "[{'id': '9f6055cb-fd9f-4fb4-a8e6-f8570c267098',\n",
              "  'sentence': 'Importance and the use of correlation in Statistics Introduction Correlation is a statistical measure that expresses the extent to which two variables are linearly related. It is a common tool for describing simple relationships without making a statement about cause and effect. Correlation coefficients range from -1 to 1, with a value of 0 indicating no linear relationship between the two variables, a value of 1 indicating a perfect positive linear relationship, and a value of -1 indicating a perfect negative linear relationship. Correlation is important in statistics because it can be used to 1. Identify relationships between variables: Correlation can be used to identify whether there is a relationship between two variables, and if so, whether the relationship is positive or negative. This information can be useful for understanding the relationships between different factors in a complex system. 2. Make predictions: If there is a strong correlation between two variables, it is possible to use the value of one variable to predict the value of the other variable. This can be useful for making predictions in a variety of fields, such as business, finance, and medicine. 3. Develop causal models: Correlation can be used as a starting point for developing causal models, which are models that describe how changes in one variable cause changes in other variables. Causal models can be used to make more accurate predictions and to develop interventions to change the values of specific variables'},\n",
              " {'id': 'f969a82b-dc59-41f4-9b9a-1185fe867fd7',\n",
              "  'sentence': 'Correlation is used in a wide variety of fields including 1. Business: Correlation can be used to identify relationships between different business variables, such as sales, advertising spending, and customer satisfaction. This information can be used to make better business decisions, such as how to allocate marketing resources. 2. Finance: Correlation can be used to identify relationships between different financial assets, such as stocks, bonds, and commodities. This information can be used to build diversified portfolios that reduce risk. 3. Medicine: Correlation can be used to identify relationships between different medical variables, such as risk factors for diseases and the effectiveness of treatments. This information can be used to improve the prevention, diagnosis, and treatment of diseases. 4. Psychology: Correlation can be used to identify relationships between different psychological variables, such as personality traits, cognitive abilities, and mental disorders. This information can be used to develop better psychological assessments and treatments. How correlation is used in the real world 1. A marketing manager might use correlation to identify the relationship between advertising spending and sales. This information could be used to decide how much money to allocate to advertising. 2. A financial analyst might use correlation to identify the relationship between the returns of different stocks. This information could be used to build a portfolio of stocks that is diversified and has a lower overall risk. 3. A medical researcher might use correlation to identify the relationship between smoking and lung cancer. This information could be used to develop public health campaigns to discourage smoking. 4. A psychologist might use correlation to identify the relationship between anxiety and depression. This information could be used to develop more effective treatments for anxiety and depression. Conclusion It is important to note that correlation does not equal causation. Just because two variables are correlated does not mean that one variable causes the other . For example, there is a strong correlation between ice cream sales and shark attacks. However , this does not mean that eating ice cream causes shark attacks. Instead, there is likely a third variable, such as hot weather , that causes both ice cream sales and shark attacks to increase. Overall, correlation is a powerful statistical tool that can be used to identify relationships between variables, make predictions, and develop causal models. It is used in a wide variety of fields to make better decisions and improve outcomes'}]"
            ]
          },
          "execution_count": 17,
          "metadata": {},
          "output_type": "execute_result"
        }
      ],
      "source": [
        "data=load_file(sentence_file_path)\n",
        "data"
      ]
    },
    {
      "cell_type": "code",
      "execution_count": 18,
      "id": "h1x5zjHsVss1",
      "metadata": {
        "executionInfo": {
          "elapsed": 723,
          "status": "ok",
          "timestamp": 1715677368609,
          "user": {
            "displayName": "",
            "userId": ""
          },
          "user_tz": -360
        },
        "id": "h1x5zjHsVss1"
      },
      "outputs": [],
      "source": [
        "query=[\"what is correlation?\"]\n",
        "\n",
        "qry_emb=generate_text_embeddings(query)"
      ]
    },
    {
      "cell_type": "code",
      "execution_count": 19,
      "id": "p_AkN96wVwl0",
      "metadata": {
        "colab": {
          "base_uri": "https://localhost:8080/"
        },
        "executionInfo": {
          "elapsed": 16,
          "status": "ok",
          "timestamp": 1715677373675,
          "user": {
            "displayName": "",
            "userId": ""
          },
          "user_tz": -360
        },
        "id": "p_AkN96wVwl0",
        "outputId": "17a77259-2485-4fb9-b378-7189d14d01a2"
      },
      "outputs": [
        {
          "data": {
            "text/plain": [
              "[[0.0031879430171102285,\n",
              "  0.030173784121870995,\n",
              "  -0.046163856983184814,\n",
              "  -0.010091220960021019,\n",
              "  -0.026898862794041634,\n",
              "  -0.05871526896953583,\n",
              "  0.022807922214269638,\n",
              "  0.02700706385076046,\n",
              "  -0.021587025374174118,\n",
              "  0.03865209221839905,\n",
              "  -0.014295038767158985,\n",
              "  -0.04151195287704468,\n",
              "  0.035884130746126175,\n",
              "  -5.352220614440739e-05,\n",
              "  -0.039067499339580536,\n",
              "  0.007143754046410322,\n",
              "  -0.02639135904610157,\n",
              "  -0.015075067058205605,\n",
              "  0.043786194175481796,\n",
              "  -0.019433336332440376,\n",
              "  -0.03991476446390152,\n",
              "  -0.060704465955495834,\n",
              "  -0.019392838701605797,\n",
              "  -0.01959632895886898,\n",
              "  -0.019830776378512383,\n",
              "  -0.10087926685810089,\n",
              "  0.00258005503565073,\n",
              "  0.007023989222943783,\n",
              "  -0.025977298617362976,\n",
              "  -0.028022313490509987,\n",
              "  0.03841837868094444,\n",
              "  0.01058691181242466,\n",
              "  0.017269540578126907,\n",
              "  0.003389855148270726,\n",
              "  -0.024171901866793633,\n",
              "  0.040811534970998764,\n",
              "  0.016141369938850403,\n",
              "  0.026479193940758705,\n",
              "  -0.03963363170623779,\n",
              "  -0.013527167029678822,\n",
              "  0.03784491494297981,\n",
              "  -0.024502519518136978,\n",
              "  0.01619463600218296,\n",
              "  0.019481759518384933,\n",
              "  -0.04543505236506462,\n",
              "  -0.04406547173857689,\n",
              "  -0.009687271900475025,\n",
              "  0.0533372163772583,\n",
              "  -0.0007746474584564567,\n",
              "  -0.04193396493792534,\n",
              "  -0.002459024079144001,\n",
              "  -0.01866789162158966,\n",
              "  0.021929724141955376,\n",
              "  0.01633235439658165,\n",
              "  0.009508934803307056,\n",
              "  -0.01058264635503292,\n",
              "  -0.017940185964107513,\n",
              "  0.03857755661010742,\n",
              "  0.0018065492622554302,\n",
              "  -0.01696798950433731,\n",
              "  -0.004970371723175049,\n",
              "  -0.012182510457932949,\n",
              "  0.018716370686888695,\n",
              "  -0.05502995476126671,\n",
              "  -0.07263503223657608,\n",
              "  0.05919983237981796,\n",
              "  0.0074794841930270195,\n",
              "  -0.00985074881464243,\n",
              "  0.01792300119996071,\n",
              "  -0.07469329237937927,\n",
              "  0.0469074621796608,\n",
              "  0.014620858244597912,\n",
              "  0.022167276591062546,\n",
              "  -0.00572409201413393,\n",
              "  0.05706646293401718,\n",
              "  0.03225843608379364,\n",
              "  0.0031005910132080317,\n",
              "  0.02518363483250141,\n",
              "  0.07038571685552597,\n",
              "  -0.03338901326060295,\n",
              "  -0.042193859815597534,\n",
              "  -0.06831356137990952,\n",
              "  -0.009794826619327068,\n",
              "  -0.053675368428230286,\n",
              "  0.00842959526926279,\n",
              "  0.009781667031347752,\n",
              "  0.00949735939502716,\n",
              "  0.06910526007413864,\n",
              "  -0.005369838792830706,\n",
              "  0.05322001874446869,\n",
              "  -0.06441599130630493,\n",
              "  0.0017155575333163142,\n",
              "  -0.015821173787117004,\n",
              "  -0.04134605824947357,\n",
              "  -0.01861768402159214,\n",
              "  -0.0063598682172596455,\n",
              "  -0.0020070280879735947,\n",
              "  -0.021192526444792747,\n",
              "  -0.02465483918786049,\n",
              "  0.0036272387951612473,\n",
              "  0.003707141149789095,\n",
              "  -0.05191601440310478,\n",
              "  0.03850637376308441,\n",
              "  -0.010368996299803257,\n",
              "  0.04896958917379379,\n",
              "  -0.0009861678117886186,\n",
              "  -0.03209393844008446,\n",
              "  0.04386227950453758,\n",
              "  -0.029020942747592926,\n",
              "  -0.06855509430170059,\n",
              "  -0.02175982855260372,\n",
              "  -0.004797106608748436,\n",
              "  -0.006392032839357853,\n",
              "  0.023383157327771187,\n",
              "  0.03494579344987869,\n",
              "  0.0011961786076426506,\n",
              "  -0.009832765907049179,\n",
              "  -0.042552705854177475,\n",
              "  0.0638733059167862,\n",
              "  -0.00011147429177071899,\n",
              "  -0.02845621109008789,\n",
              "  -0.026425447314977646,\n",
              "  0.05612730607390404,\n",
              "  0.018692877143621445,\n",
              "  0.03710915520787239,\n",
              "  -0.018150821328163147,\n",
              "  0.013453722931444645,\n",
              "  0.027177533134818077,\n",
              "  -0.05457967519760132,\n",
              "  -0.01166832447052002,\n",
              "  0.01675790175795555,\n",
              "  -0.03938138112425804,\n",
              "  0.040401432663202286,\n",
              "  -0.059061210602521896,\n",
              "  -0.004527876153588295,\n",
              "  0.012973659671843052,\n",
              "  0.04642599821090698,\n",
              "  -0.03178727999329567,\n",
              "  -0.0038694306276738644,\n",
              "  0.02154448628425598,\n",
              "  -0.041333455592393875,\n",
              "  0.017404351383447647,\n",
              "  -0.012380965054035187,\n",
              "  -0.045110344886779785,\n",
              "  0.029364487156271935,\n",
              "  -0.03709106147289276,\n",
              "  0.007971659302711487,\n",
              "  -0.03478432074189186,\n",
              "  -0.0316031277179718,\n",
              "  -0.0518624521791935,\n",
              "  -0.026704195886850357,\n",
              "  -0.0556025393307209,\n",
              "  -0.01192495133727789,\n",
              "  0.03028912842273712,\n",
              "  0.037265077233314514,\n",
              "  0.02192291058599949,\n",
              "  0.08392386883497238,\n",
              "  0.04923226684331894,\n",
              "  -0.024649066850543022,\n",
              "  -0.05915532633662224,\n",
              "  0.041828613728284836,\n",
              "  -0.013720001094043255,\n",
              "  0.0351286344230175,\n",
              "  -0.011471960693597794,\n",
              "  0.05500675365328789,\n",
              "  0.020702263340353966,\n",
              "  0.028920140117406845,\n",
              "  0.03213220834732056,\n",
              "  -0.02508225291967392,\n",
              "  -0.006733504589647055,\n",
              "  0.04340783506631851,\n",
              "  -0.1697436422109604,\n",
              "  0.04140152409672737,\n",
              "  -0.06706871092319489,\n",
              "  0.024717973545193672,\n",
              "  -0.013295390643179417,\n",
              "  -0.028313403949141502,\n",
              "  0.00434066541492939,\n",
              "  0.02370137721300125,\n",
              "  -0.005592729896306992,\n",
              "  -0.009462215937674046,\n",
              "  -0.040483828634023666,\n",
              "  0.03442412614822388,\n",
              "  0.0057154446840286255,\n",
              "  -0.041935015469789505,\n",
              "  0.0084269680082798,\n",
              "  -0.03390831500291824,\n",
              "  -0.04535753279924393,\n",
              "  -0.03922605514526367,\n",
              "  0.08322372287511826,\n",
              "  -0.03767310827970505,\n",
              "  -0.0018929983489215374,\n",
              "  -0.00728843966498971,\n",
              "  -0.0817030668258667,\n",
              "  -0.05227213352918625,\n",
              "  0.02141488343477249,\n",
              "  0.03797309473156929,\n",
              "  -0.11512330919504166,\n",
              "  -0.04073815420269966,\n",
              "  0.018467005342245102,\n",
              "  -0.008863257244229317,\n",
              "  0.044174060225486755,\n",
              "  0.025020383298397064,\n",
              "  -0.02970043011009693,\n",
              "  -0.009201237000524998,\n",
              "  -0.002265525981783867,\n",
              "  0.014825182035565376,\n",
              "  0.04598744586110115,\n",
              "  0.013224631547927856,\n",
              "  -0.02604767307639122,\n",
              "  0.02131802774965763,\n",
              "  -0.037752553820610046,\n",
              "  0.03849000483751297,\n",
              "  0.0031013379339128733,\n",
              "  0.026708953082561493,\n",
              "  -0.022781863808631897,\n",
              "  -0.009333617985248566,\n",
              "  -0.01615321822464466,\n",
              "  -0.06652653217315674,\n",
              "  -0.013729809783399105,\n",
              "  -0.010978853330016136,\n",
              "  -0.03626280650496483,\n",
              "  0.025246357545256615,\n",
              "  0.01810975931584835,\n",
              "  -0.015459074638783932,\n",
              "  0.008261928334832191,\n",
              "  0.04761318489909172,\n",
              "  -0.056868307292461395,\n",
              "  -0.012201589532196522,\n",
              "  0.034262314438819885,\n",
              "  -0.015255002304911613,\n",
              "  0.008992657996714115,\n",
              "  0.04435322433710098,\n",
              "  -0.016012869775295258,\n",
              "  0.02012432925403118,\n",
              "  0.016319874674081802,\n",
              "  0.03942130506038666,\n",
              "  -0.06013540178537369,\n",
              "  -0.01989726908504963,\n",
              "  0.03248986974358559,\n",
              "  -0.03672103211283684,\n",
              "  0.01613426022231579,\n",
              "  -0.03947364166378975,\n",
              "  0.03273748606443405,\n",
              "  0.010275815613567829,\n",
              "  -0.008537085726857185,\n",
              "  -0.07809260487556458,\n",
              "  0.0322064645588398,\n",
              "  0.004968735855072737,\n",
              "  -0.024459002539515495,\n",
              "  0.02257790043950081,\n",
              "  -0.11620073765516281,\n",
              "  0.03578612580895424,\n",
              "  -0.03902565687894821,\n",
              "  0.04520273581147194,\n",
              "  -0.033574651926755905,\n",
              "  0.00482506537809968,\n",
              "  0.0100023802369833,\n",
              "  0.021732289344072342,\n",
              "  -0.0063209692016243935,\n",
              "  -0.02179831452667713,\n",
              "  -0.02720642276108265,\n",
              "  0.04693206772208214,\n",
              "  0.04222356900572777,\n",
              "  -0.022612905129790306,\n",
              "  -0.016647130250930786,\n",
              "  -0.04430530220270157,\n",
              "  -0.038565196096897125,\n",
              "  0.08623718470335007,\n",
              "  -0.0179289598017931,\n",
              "  -0.02682565152645111,\n",
              "  0.010766969993710518,\n",
              "  0.029893886297941208,\n",
              "  0.04412641003727913,\n",
              "  -0.024265866726636887,\n",
              "  -0.03114548698067665,\n",
              "  -0.0423668809235096,\n",
              "  0.030414527282118797,\n",
              "  0.046960022300481796,\n",
              "  0.08887889981269836,\n",
              "  0.012312850914895535,\n",
              "  0.030642827972769737,\n",
              "  -0.004052566830068827,\n",
              "  0.00788243766874075,\n",
              "  0.01625087298452854,\n",
              "  0.03946799412369728,\n",
              "  -0.05950326472520828,\n",
              "  -0.015263141132891178,\n",
              "  -0.08989206701517105,\n",
              "  0.0031195268966257572,\n",
              "  -0.020711084827780724,\n",
              "  0.015805773437023163,\n",
              "  -0.03521612659096718,\n",
              "  0.05585688725113869,\n",
              "  -0.00565968407317996,\n",
              "  0.007091723848134279,\n",
              "  0.04857983812689781,\n",
              "  -0.0583171546459198,\n",
              "  -0.01385275088250637,\n",
              "  0.05486523360013962,\n",
              "  0.011437762528657913,\n",
              "  0.000649196794256568,\n",
              "  0.01834952086210251,\n",
              "  -0.021677643060684204,\n",
              "  -0.0061812084168195724,\n",
              "  -0.02828383632004261,\n",
              "  0.005943762604147196,\n",
              "  -0.03675280511379242,\n",
              "  -0.001622783369384706,\n",
              "  -0.02829674631357193,\n",
              "  0.05320080369710922,\n",
              "  0.01639382913708687,\n",
              "  0.021115124225616455,\n",
              "  -0.012795908376574516,\n",
              "  -0.003491460345685482,\n",
              "  -0.003282791469246149,\n",
              "  -0.021189475432038307,\n",
              "  -0.03143557533621788,\n",
              "  -0.0205010324716568,\n",
              "  0.026874640956521034,\n",
              "  -0.02601243183016777,\n",
              "  0.019244125112891197,\n",
              "  0.07864800840616226,\n",
              "  0.037027567625045776,\n",
              "  0.00974447000771761,\n",
              "  -0.035403307527303696,\n",
              "  0.020373621955513954,\n",
              "  0.012291989289224148,\n",
              "  0.06811133772134781,\n",
              "  -0.03379339352250099,\n",
              "  -0.030029015615582466,\n",
              "  0.02251080982387066,\n",
              "  -0.01893947459757328,\n",
              "  0.037724949419498444,\n",
              "  0.05495651066303253,\n",
              "  -0.018014581874012947,\n",
              "  0.02976343408226967,\n",
              "  0.07688840478658676,\n",
              "  0.018618779256939888,\n",
              "  -0.08880162984132767,\n",
              "  0.005982598289847374,\n",
              "  -0.017689749598503113,\n",
              "  0.01409133430570364,\n",
              "  -0.008370093069970608,\n",
              "  -0.025414790958166122,\n",
              "  0.04018476605415344,\n",
              "  -0.04049454629421234,\n",
              "  0.011752814054489136,\n",
              "  -0.030094213783740997,\n",
              "  -0.03654609993100166,\n",
              "  -0.01277818251401186,\n",
              "  0.017823627218604088,\n",
              "  -0.00013197335647419095,\n",
              "  0.029159609228372574,\n",
              "  0.04190339520573616,\n",
              "  0.02220509573817253,\n",
              "  -0.020964333787560463,\n",
              "  0.008443987928330898,\n",
              "  -0.0038760711904615164,\n",
              "  0.0070176273584365845,\n",
              "  -0.024439265951514244,\n",
              "  0.002464796183630824,\n",
              "  -0.05888257920742035,\n",
              "  0.03269610553979874,\n",
              "  -0.0038367274682968855,\n",
              "  -0.004004311747848988,\n",
              "  -0.05208735167980194,\n",
              "  0.0025106524117290974,\n",
              "  0.015698285773396492,\n",
              "  -0.008178365416824818,\n",
              "  0.01386525109410286,\n",
              "  -0.009547914378345013,\n",
              "  0.0011278435122221708,\n",
              "  -0.015131124295294285,\n",
              "  -0.08420585840940475,\n",
              "  -0.00738051300868392,\n",
              "  -0.0008946050074882805,\n",
              "  0.05969144031405449,\n",
              "  0.012605525553226471,\n",
              "  0.026067379862070084,\n",
              "  -0.023274237290024757,\n",
              "  -0.04565022885799408,\n",
              "  0.03223596140742302,\n",
              "  -0.013494453392922878,\n",
              "  -0.02575238049030304,\n",
              "  -0.0488070547580719,\n",
              "  -0.012023771181702614,\n",
              "  0.068928562104702,\n",
              "  0.009571706876158714,\n",
              "  -0.08550519496202469,\n",
              "  0.0065159182995557785,\n",
              "  -0.0018550812965258956,\n",
              "  -0.0347028449177742,\n",
              "  0.007009347900748253,\n",
              "  -0.012061269022524357,\n",
              "  0.06131391599774361,\n",
              "  -0.025004684925079346,\n",
              "  -0.0252985917031765,\n",
              "  0.025990357622504234,\n",
              "  0.0017420148942619562,\n",
              "  0.01359027624130249,\n",
              "  0.012666960246860981,\n",
              "  -0.04458525776863098,\n",
              "  -0.08616293966770172,\n",
              "  0.01335608959197998,\n",
              "  -0.01756204105913639,\n",
              "  0.032176945358514786,\n",
              "  0.08613890409469604,\n",
              "  -0.024878960102796555,\n",
              "  -0.07429435104131699,\n",
              "  0.02346748113632202,\n",
              "  -0.03804556280374527,\n",
              "  0.021561376750469208,\n",
              "  0.0086532486602664,\n",
              "  0.01684844121336937,\n",
              "  -0.03076932579278946,\n",
              "  0.0017907862784340978,\n",
              "  -0.05395922809839249,\n",
              "  -0.03798516467213631,\n",
              "  0.04075193032622337,\n",
              "  0.053738195449113846,\n",
              "  -0.0668536052107811,\n",
              "  0.001745619927532971,\n",
              "  0.03278694301843643,\n",
              "  0.01317816786468029,\n",
              "  0.03754347190260887,\n",
              "  -0.07926693558692932,\n",
              "  0.10322626680135727,\n",
              "  -0.0538933165371418,\n",
              "  -0.06340542435646057,\n",
              "  -0.007534535601735115,\n",
              "  0.03748834878206253,\n",
              "  0.03821396827697754,\n",
              "  -0.0536315031349659,\n",
              "  0.01675623282790184,\n",
              "  -0.011098508723080158,\n",
              "  0.0683613121509552,\n",
              "  0.02019997127354145,\n",
              "  -0.03390143811702728,\n",
              "  0.004385476931929588,\n",
              "  -0.02281041257083416,\n",
              "  0.014076822437345982,\n",
              "  -0.04080665484070778,\n",
              "  -0.008865058422088623,\n",
              "  -0.019126666709780693,\n",
              "  -0.014005132019519806,\n",
              "  -0.01126172672957182,\n",
              "  -0.03271934762597084,\n",
              "  0.010069218464195728,\n",
              "  0.014434325508773327,\n",
              "  -0.04694697633385658,\n",
              "  -0.025861036032438278,\n",
              "  -0.030900316312909126,\n",
              "  0.08177859336137772,\n",
              "  0.016250818967819214,\n",
              "  0.06210295855998993,\n",
              "  -0.013001927174627781,\n",
              "  0.002433991525322199,\n",
              "  -0.0326845608651638,\n",
              "  -0.014373263344168663,\n",
              "  0.02060552127659321,\n",
              "  -0.019856782630085945,\n",
              "  0.0014517122181132436,\n",
              "  0.010677628219127655,\n",
              "  -0.038823001086711884,\n",
              "  -0.051972731947898865,\n",
              "  0.01723257452249527,\n",
              "  0.003499804064631462,\n",
              "  -0.04961519315838814,\n",
              "  0.04923740029335022,\n",
              "  -0.025381261482834816,\n",
              "  0.04169934242963791,\n",
              "  -0.04351695999503136,\n",
              "  0.019537804648280144,\n",
              "  -0.01384948194026947,\n",
              "  0.026559485122561455,\n",
              "  0.09330466389656067,\n",
              "  0.025245629251003265,\n",
              "  -0.013745835050940514,\n",
              "  0.045475706458091736,\n",
              "  -0.03755341097712517,\n",
              "  -0.04357203468680382,\n",
              "  0.0027764588594436646,\n",
              "  -0.03596476465463638,\n",
              "  0.006890196353197098,\n",
              "  -0.0005905071157030761,\n",
              "  -0.027534686028957367,\n",
              "  0.044874779880046844,\n",
              "  -0.0413290299475193,\n",
              "  0.02367144264280796,\n",
              "  0.03240302577614784,\n",
              "  -0.0304636899381876,\n",
              "  0.05271296203136444,\n",
              "  -0.07226327061653137,\n",
              "  0.014781355857849121,\n",
              "  -0.0169991347938776,\n",
              "  -0.0016641892725601792,\n",
              "  0.003333986969664693,\n",
              "  -0.008056938648223877,\n",
              "  -0.015815405175089836,\n",
              "  0.0576101578772068,\n",
              "  -0.022505709901452065,\n",
              "  0.026346366852521896,\n",
              "  0.067941814661026,\n",
              "  -0.025063980370759964,\n",
              "  -0.0031924706418067217,\n",
              "  0.04780735820531845,\n",
              "  -0.03874805197119713,\n",
              "  -0.022105518728494644,\n",
              "  0.06551815569400787,\n",
              "  0.0018560860771685839,\n",
              "  0.05948624387383461,\n",
              "  -0.007540608290582895,\n",
              "  -0.005016816779971123,\n",
              "  -0.024472437798976898,\n",
              "  -0.06676110625267029,\n",
              "  -0.002840418368577957,\n",
              "  0.017988817766308784,\n",
              "  -0.02112511917948723,\n",
              "  -0.013732384890317917,\n",
              "  -0.002847326220944524,\n",
              "  0.012204023078083992,\n",
              "  0.020465591922402382,\n",
              "  0.008615409024059772,\n",
              "  0.029958050698041916,\n",
              "  0.0070363678969442844,\n",
              "  0.05533817782998085,\n",
              "  0.014411025680601597,\n",
              "  -0.0471126027405262,\n",
              "  -0.009057975374162197,\n",
              "  0.0006378048565238714,\n",
              "  0.0006068783113732934,\n",
              "  0.020377030596137047,\n",
              "  -0.019380252808332443,\n",
              "  0.0014528059400618076,\n",
              "  -0.02779141627252102,\n",
              "  0.01390779484063387,\n",
              "  0.009037746116518974,\n",
              "  0.009316667914390564,\n",
              "  0.06793878227472305,\n",
              "  0.0029160026460886,\n",
              "  -0.04873222857713699,\n",
              "  -0.01774759590625763,\n",
              "  0.02255583181977272,\n",
              "  0.04037589207291603,\n",
              "  -0.01941978931427002,\n",
              "  0.009391281753778458,\n",
              "  0.001132518402300775,\n",
              "  -0.0017922163242474198,\n",
              "  0.0542810782790184,\n",
              "  0.026847854256629944,\n",
              "  0.002080210717394948,\n",
              "  -0.010157919488847256,\n",
              "  0.04882973060011864,\n",
              "  0.009321694262325764,\n",
              "  -0.06173902377486229,\n",
              "  0.016265764832496643,\n",
              "  -0.036833036690950394,\n",
              "  -0.05575055629014969,\n",
              "  0.019924482330679893,\n",
              "  0.02839413285255432,\n",
              "  0.04556844010949135,\n",
              "  2.9315633582882583e-05,\n",
              "  -0.031212374567985535,\n",
              "  0.011808580718934536,\n",
              "  0.012670247815549374,\n",
              "  0.02413228526711464,\n",
              "  0.031228644773364067,\n",
              "  0.022083936259150505,\n",
              "  0.05318339541554451,\n",
              "  -0.029453760012984276,\n",
              "  -0.0661635547876358,\n",
              "  -0.0059661571867764,\n",
              "  0.025935934856534004,\n",
              "  0.006854888051748276,\n",
              "  0.022830387577414513,\n",
              "  -0.02695162408053875,\n",
              "  -0.012047580443322659,\n",
              "  -0.012955772690474987,\n",
              "  0.002758339047431946,\n",
              "  -0.04445008933544159,\n",
              "  0.008242658339440823,\n",
              "  -0.017135774716734886,\n",
              "  0.04841487854719162,\n",
              "  -0.027176715433597565,\n",
              "  0.0005617838469333947,\n",
              "  0.008304222486913204,\n",
              "  -0.0244620218873024,\n",
              "  0.012213594280183315,\n",
              "  -0.04964689537882805,\n",
              "  0.013450052589178085,\n",
              "  -0.05450034886598587,\n",
              "  0.004656161181628704,\n",
              "  -0.008531385101377964,\n",
              "  -0.05071251094341278,\n",
              "  -0.0010803950717672706,\n",
              "  -0.00370928761549294,\n",
              "  0.0030057223048061132,\n",
              "  0.02621174417436123,\n",
              "  0.014178193174302578,\n",
              "  -0.01050441525876522,\n",
              "  0.08396992087364197,\n",
              "  0.03411071002483368,\n",
              "  -0.00551143754273653,\n",
              "  0.03835391625761986,\n",
              "  0.01710142381489277,\n",
              "  0.03915603086352348,\n",
              "  0.04978577420115471,\n",
              "  0.05365481600165367,\n",
              "  0.035648465156555176,\n",
              "  0.05213870853185654,\n",
              "  0.033788252621889114,\n",
              "  -0.004338590893894434,\n",
              "  -0.024932755157351494,\n",
              "  -0.02416924573481083,\n",
              "  -0.0025491099804639816,\n",
              "  -0.03516678512096405,\n",
              "  0.04458048567175865,\n",
              "  0.012331980280578136,\n",
              "  -0.0021229686681181192,\n",
              "  0.021055202931165695,\n",
              "  0.009613699279725552,\n",
              "  0.008893596939742565,\n",
              "  -0.06292497366666794,\n",
              "  -0.036251381039619446,\n",
              "  0.0061004809103906155,\n",
              "  0.002351171802729368,\n",
              "  -0.005755375139415264,\n",
              "  -0.005670662969350815,\n",
              "  -0.045512717217206955,\n",
              "  -0.003165378700941801,\n",
              "  -0.016993628814816475,\n",
              "  -0.01915610581636429,\n",
              "  -0.05535000562667847,\n",
              "  0.008738687261939049,\n",
              "  -0.005584129132330418,\n",
              "  -0.03394905850291252,\n",
              "  0.044608838856220245,\n",
              "  0.0545155368745327,\n",
              "  -0.01361490972340107,\n",
              "  0.025931164622306824,\n",
              "  0.021713759750127792,\n",
              "  0.017963353544473648,\n",
              "  -0.03722545877099037,\n",
              "  0.006357381585985422,\n",
              "  -0.05889151617884636,\n",
              "  -0.03184003755450249,\n",
              "  -0.009836534038186073,\n",
              "  -0.04613308236002922,\n",
              "  0.045186132192611694,\n",
              "  -0.03630092740058899,\n",
              "  -0.03417709469795227,\n",
              "  -0.07663065195083618,\n",
              "  -0.09043006598949432,\n",
              "  -0.010403675027191639,\n",
              "  0.03166511282324791,\n",
              "  -0.0028355736285448074,\n",
              "  0.013707111589610577,\n",
              "  -0.024522172287106514,\n",
              "  -0.0032623002771288157,\n",
              "  0.05516095086932182,\n",
              "  -0.02192094177007675,\n",
              "  0.016077660024166107,\n",
              "  0.05743415653705597,\n",
              "  -0.0714278444647789,\n",
              "  0.03002939000725746,\n",
              "  -0.027726519852876663,\n",
              "  0.06414995342493057,\n",
              "  0.0079446230083704,\n",
              "  0.009712522849440575,\n",
              "  -0.05982586368918419,\n",
              "  -0.022929882630705833,\n",
              "  0.05770004540681839,\n",
              "  -0.02662481740117073,\n",
              "  -0.021299365907907486,\n",
              "  0.02415071614086628,\n",
              "  -0.0036657804157584906,\n",
              "  0.014787712134420872,\n",
              "  0.06419043987989426,\n",
              "  -0.04738183692097664,\n",
              "  -0.05300716310739517,\n",
              "  0.013140806928277016,\n",
              "  -0.002858054358512163,\n",
              "  -0.009568179957568645,\n",
              "  0.009002835489809513,\n",
              "  -0.0031397512648254633,\n",
              "  0.030390514060854912,\n",
              "  -0.0168102215975523,\n",
              "  -0.01894555240869522,\n",
              "  -0.03819512948393822,\n",
              "  -0.002194972475990653,\n",
              "  0.026762310415506363,\n",
              "  -0.09625599533319473,\n",
              "  -0.054465439170598984,\n",
              "  -0.007093262858688831,\n",
              "  -0.033411722630262375,\n",
              "  -0.012043289840221405,\n",
              "  0.03297218680381775,\n",
              "  -0.003809994552284479,\n",
              "  0.024550562724471092,\n",
              "  -0.014644860289990902,\n",
              "  0.004265479277819395,\n",
              "  0.07204996049404144,\n",
              "  0.033182162791490555,\n",
              "  0.017752667888998985,\n",
              "  -0.04372645169496536,\n",
              "  -0.09439307451248169,\n",
              "  0.02861737459897995,\n",
              "  -0.05279521644115448,\n",
              "  0.01458714995533228,\n",
              "  -0.02648538164794445,\n",
              "  -0.012337618507444859,\n",
              "  0.05020928755402565,\n",
              "  0.028436321765184402,\n",
              "  -0.028635814785957336,\n",
              "  0.014083826914429665,\n",
              "  -0.0112947728484869,\n",
              "  0.05431388318538666,\n",
              "  0.043035052716732025,\n",
              "  -0.018778182566165924,\n",
              "  0.022970180958509445,\n",
              "  -0.008916027843952179,\n",
              "  0.02998862788081169,\n",
              "  -0.08108276128768921,\n",
              "  -0.04655323922634125,\n",
              "  -0.016987349838018417,\n",
              "  0.03986089676618576,\n",
              "  -0.03980052098631859,\n",
              "  -0.038999106734991074,\n",
              "  0.01583760417997837,\n",
              "  0.0012782562989741564,\n",
              "  -0.05055945739150047,\n",
              "  0.014745844528079033,\n",
              "  0.020965395495295525,\n",
              "  0.002105823950842023,\n",
              "  -0.04566555842757225,\n",
              "  0.02618863619863987,\n",
              "  -0.008313840255141258,\n",
              "  0.03439195454120636,\n",
              "  -0.02969197742640972,\n",
              "  -0.038172025233507156,\n",
              "  0.0411544106900692,\n",
              "  0.015988456085324287,\n",
              "  -0.026851514354348183,\n",
              "  -0.0021943305619060993,\n",
              "  0.03386706858873367,\n",
              "  0.0036928781773895025,\n",
              "  0.05202806740999222,\n",
              "  -0.015182645060122013,\n",
              "  -0.036666661500930786,\n",
              "  -0.08873176574707031,\n",
              "  0.024259060621261597,\n",
              "  0.002993345493450761,\n",
              "  -0.01969348080456257,\n",
              "  -0.02989073283970356,\n",
              "  0.08794198930263519,\n",
              "  0.021345647051930428,\n",
              "  -0.0008581486181356013,\n",
              "  -0.03094996139407158,\n",
              "  0.07238969206809998,\n",
              "  0.034568991512060165,\n",
              "  -0.004042461514472961,\n",
              "  -0.020522750914096832,\n",
              "  0.003708054544404149,\n",
              "  0.07762367278337479,\n",
              "  0.013411810621619225,\n",
              "  0.0039430479519069195,\n",
              "  -0.0649099051952362]]"
            ]
          },
          "execution_count": 19,
          "metadata": {},
          "output_type": "execute_result"
        }
      ],
      "source": [
        "qry_emb"
      ]
    },
    {
      "cell_type": "code",
      "execution_count": 20,
      "id": "Ymx8oT3uVxyt",
      "metadata": {
        "colab": {
          "base_uri": "https://localhost:8080/",
          "height": 607
        },
        "executionInfo": {
          "elapsed": 26,
          "status": "error",
          "timestamp": 1715677389965,
          "user": {
            "displayName": "",
            "userId": ""
          },
          "user_tz": -360
        },
        "id": "Ymx8oT3uVxyt",
        "outputId": "bf26b2bd-5750-4c87-bb0f-77936a0683eb"
      },
      "outputs": [
        {
          "ename": "ServiceUnavailable",
          "evalue": "503 DNS resolution failed for 1645167058.us-central1-1060807096482.vdb.vertexai.goog:443: C-ares status is not ARES_SUCCESS qtype=A name=1645167058.us-central1-1060807096482.vdb.vertexai.goog is_balancer=0: Domain name not found",
          "output_type": "error",
          "traceback": [
            "\u001b[0;31m---------------------------------------------------------------------------\u001b[0m",
            "\u001b[0;31m_InactiveRpcError\u001b[0m                         Traceback (most recent call last)",
            "\u001b[0;32m/usr/local/lib/python3.10/dist-packages/google/api_core/grpc_helpers.py\u001b[0m in \u001b[0;36merror_remapped_callable\u001b[0;34m(*args, **kwargs)\u001b[0m\n\u001b[1;32m     71\u001b[0m         \u001b[0;32mtry\u001b[0m\u001b[0;34m:\u001b[0m\u001b[0;34m\u001b[0m\u001b[0;34m\u001b[0m\u001b[0m\n\u001b[0;32m---> 72\u001b[0;31m             \u001b[0;32mreturn\u001b[0m \u001b[0mcallable_\u001b[0m\u001b[0;34m(\u001b[0m\u001b[0;34m*\u001b[0m\u001b[0margs\u001b[0m\u001b[0;34m,\u001b[0m \u001b[0;34m**\u001b[0m\u001b[0mkwargs\u001b[0m\u001b[0;34m)\u001b[0m\u001b[0;34m\u001b[0m\u001b[0;34m\u001b[0m\u001b[0m\n\u001b[0m\u001b[1;32m     73\u001b[0m         \u001b[0;32mexcept\u001b[0m \u001b[0mgrpc\u001b[0m\u001b[0;34m.\u001b[0m\u001b[0mRpcError\u001b[0m \u001b[0;32mas\u001b[0m \u001b[0mexc\u001b[0m\u001b[0;34m:\u001b[0m\u001b[0;34m\u001b[0m\u001b[0;34m\u001b[0m\u001b[0m\n",
            "\u001b[0;32m/usr/local/lib/python3.10/dist-packages/grpc/_channel.py\u001b[0m in \u001b[0;36m__call__\u001b[0;34m(self, request, timeout, metadata, credentials, wait_for_ready, compression)\u001b[0m\n\u001b[1;32m   1175\u001b[0m         )\n\u001b[0;32m-> 1176\u001b[0;31m         \u001b[0;32mreturn\u001b[0m \u001b[0m_end_unary_response_blocking\u001b[0m\u001b[0;34m(\u001b[0m\u001b[0mstate\u001b[0m\u001b[0;34m,\u001b[0m \u001b[0mcall\u001b[0m\u001b[0;34m,\u001b[0m \u001b[0;32mFalse\u001b[0m\u001b[0;34m,\u001b[0m \u001b[0;32mNone\u001b[0m\u001b[0;34m)\u001b[0m\u001b[0;34m\u001b[0m\u001b[0;34m\u001b[0m\u001b[0m\n\u001b[0m\u001b[1;32m   1177\u001b[0m \u001b[0;34m\u001b[0m\u001b[0m\n",
            "\u001b[0;32m/usr/local/lib/python3.10/dist-packages/grpc/_channel.py\u001b[0m in \u001b[0;36m_end_unary_response_blocking\u001b[0;34m(state, call, with_call, deadline)\u001b[0m\n\u001b[1;32m   1004\u001b[0m     \u001b[0;32melse\u001b[0m\u001b[0;34m:\u001b[0m\u001b[0;34m\u001b[0m\u001b[0;34m\u001b[0m\u001b[0m\n\u001b[0;32m-> 1005\u001b[0;31m         \u001b[0;32mraise\u001b[0m \u001b[0m_InactiveRpcError\u001b[0m\u001b[0;34m(\u001b[0m\u001b[0mstate\u001b[0m\u001b[0;34m)\u001b[0m  \u001b[0;31m# pytype: disable=not-instantiable\u001b[0m\u001b[0;34m\u001b[0m\u001b[0;34m\u001b[0m\u001b[0m\n\u001b[0m\u001b[1;32m   1006\u001b[0m \u001b[0;34m\u001b[0m\u001b[0m\n",
            "\u001b[0;31m_InactiveRpcError\u001b[0m: <_InactiveRpcError of RPC that terminated with:\n\tstatus = StatusCode.UNAVAILABLE\n\tdetails = \"DNS resolution failed for 1645167058.us-central1-1060807096482.vdb.vertexai.goog:443: C-ares status is not ARES_SUCCESS qtype=A name=1645167058.us-central1-1060807096482.vdb.vertexai.goog is_balancer=0: Domain name not found\"\n\tdebug_error_string = \"UNKNOWN:Error received from peer  {created_time:\"2024-05-14T09:03:09.203143603+00:00\", grpc_status:14, grpc_message:\"DNS resolution failed for 1645167058.us-central1-1060807096482.vdb.vertexai.goog:443: C-ares status is not ARES_SUCCESS qtype=A name=1645167058.us-central1-1060807096482.vdb.vertexai.goog is_balancer=0: Domain name not found\"}\"\n>",
            "\nThe above exception was the direct cause of the following exception:\n",
            "\u001b[0;31mServiceUnavailable\u001b[0m                        Traceback (most recent call last)",
            "\u001b[0;32m<ipython-input-20-78d16831eeef>\u001b[0m in \u001b[0;36m<cell line: 1>\u001b[0;34m()\u001b[0m\n\u001b[0;32m----> 1\u001b[0;31m response = lakeside_index_ep.find_neighbors(\n\u001b[0m\u001b[1;32m      2\u001b[0m     \u001b[0mdeployed_index_id\u001b[0m \u001b[0;34m=\u001b[0m \u001b[0mindex_name\u001b[0m\u001b[0;34m,\u001b[0m\u001b[0;34m\u001b[0m\u001b[0;34m\u001b[0m\u001b[0m\n\u001b[1;32m      3\u001b[0m     \u001b[0mqueries\u001b[0m \u001b[0;34m=\u001b[0m \u001b[0;34m[\u001b[0m\u001b[0mqry_emb\u001b[0m\u001b[0;34m[\u001b[0m\u001b[0;36m0\u001b[0m\u001b[0;34m]\u001b[0m\u001b[0;34m]\u001b[0m\u001b[0;34m,\u001b[0m\u001b[0;34m\u001b[0m\u001b[0;34m\u001b[0m\u001b[0m\n\u001b[1;32m      4\u001b[0m     \u001b[0mnum_neighbors\u001b[0m \u001b[0;34m=\u001b[0m \u001b[0;36m10\u001b[0m\u001b[0;34m\u001b[0m\u001b[0;34m\u001b[0m\u001b[0m\n\u001b[1;32m      5\u001b[0m )\n",
            "\u001b[0;32m/usr/local/lib/python3.10/dist-packages/google/cloud/aiplatform/matching_engine/matching_engine_index_endpoint.py\u001b[0m in \u001b[0;36mfind_neighbors\u001b[0;34m(self, deployed_index_id, queries, num_neighbors, filter, per_crowding_attribute_neighbor_count, approx_num_neighbors, fraction_leaf_nodes_to_search_override, return_full_datapoint, numeric_filter, embedding_ids)\u001b[0m\n\u001b[1;32m   1462\u001b[0m             )\n\u001b[1;32m   1463\u001b[0m \u001b[0;34m\u001b[0m\u001b[0m\n\u001b[0;32m-> 1464\u001b[0;31m         \u001b[0mresponse\u001b[0m \u001b[0;34m=\u001b[0m \u001b[0mself\u001b[0m\u001b[0;34m.\u001b[0m\u001b[0m_public_match_client\u001b[0m\u001b[0;34m.\u001b[0m\u001b[0mfind_neighbors\u001b[0m\u001b[0;34m(\u001b[0m\u001b[0mfind_neighbors_request\u001b[0m\u001b[0;34m)\u001b[0m\u001b[0;34m\u001b[0m\u001b[0;34m\u001b[0m\u001b[0m\n\u001b[0m\u001b[1;32m   1465\u001b[0m \u001b[0;34m\u001b[0m\u001b[0m\n\u001b[1;32m   1466\u001b[0m         \u001b[0;31m# Wrap the results in MatchNeighbor objects and return\u001b[0m\u001b[0;34m\u001b[0m\u001b[0;34m\u001b[0m\u001b[0m\n",
            "\u001b[0;32m/usr/local/lib/python3.10/dist-packages/google/cloud/aiplatform_v1beta1/services/match_service/client.py\u001b[0m in \u001b[0;36mfind_neighbors\u001b[0;34m(self, request, retry, timeout, metadata)\u001b[0m\n\u001b[1;32m    746\u001b[0m \u001b[0;34m\u001b[0m\u001b[0m\n\u001b[1;32m    747\u001b[0m         \u001b[0;31m# Send the request.\u001b[0m\u001b[0;34m\u001b[0m\u001b[0;34m\u001b[0m\u001b[0m\n\u001b[0;32m--> 748\u001b[0;31m         response = rpc(\n\u001b[0m\u001b[1;32m    749\u001b[0m             \u001b[0mrequest\u001b[0m\u001b[0;34m,\u001b[0m\u001b[0;34m\u001b[0m\u001b[0;34m\u001b[0m\u001b[0m\n\u001b[1;32m    750\u001b[0m             \u001b[0mretry\u001b[0m\u001b[0;34m=\u001b[0m\u001b[0mretry\u001b[0m\u001b[0;34m,\u001b[0m\u001b[0;34m\u001b[0m\u001b[0;34m\u001b[0m\u001b[0m\n",
            "\u001b[0;32m/usr/local/lib/python3.10/dist-packages/google/api_core/gapic_v1/method.py\u001b[0m in \u001b[0;36m__call__\u001b[0;34m(self, timeout, retry, *args, **kwargs)\u001b[0m\n\u001b[1;32m    111\u001b[0m             \u001b[0mkwargs\u001b[0m\u001b[0;34m[\u001b[0m\u001b[0;34m\"metadata\"\u001b[0m\u001b[0;34m]\u001b[0m \u001b[0;34m=\u001b[0m \u001b[0mmetadata\u001b[0m\u001b[0;34m\u001b[0m\u001b[0;34m\u001b[0m\u001b[0m\n\u001b[1;32m    112\u001b[0m \u001b[0;34m\u001b[0m\u001b[0m\n\u001b[0;32m--> 113\u001b[0;31m         \u001b[0;32mreturn\u001b[0m \u001b[0mwrapped_func\u001b[0m\u001b[0;34m(\u001b[0m\u001b[0;34m*\u001b[0m\u001b[0margs\u001b[0m\u001b[0;34m,\u001b[0m \u001b[0;34m**\u001b[0m\u001b[0mkwargs\u001b[0m\u001b[0;34m)\u001b[0m\u001b[0;34m\u001b[0m\u001b[0;34m\u001b[0m\u001b[0m\n\u001b[0m\u001b[1;32m    114\u001b[0m \u001b[0;34m\u001b[0m\u001b[0m\n\u001b[1;32m    115\u001b[0m \u001b[0;34m\u001b[0m\u001b[0m\n",
            "\u001b[0;32m/usr/local/lib/python3.10/dist-packages/google/api_core/grpc_helpers.py\u001b[0m in \u001b[0;36merror_remapped_callable\u001b[0;34m(*args, **kwargs)\u001b[0m\n\u001b[1;32m     72\u001b[0m             \u001b[0;32mreturn\u001b[0m \u001b[0mcallable_\u001b[0m\u001b[0;34m(\u001b[0m\u001b[0;34m*\u001b[0m\u001b[0margs\u001b[0m\u001b[0;34m,\u001b[0m \u001b[0;34m**\u001b[0m\u001b[0mkwargs\u001b[0m\u001b[0;34m)\u001b[0m\u001b[0;34m\u001b[0m\u001b[0;34m\u001b[0m\u001b[0m\n\u001b[1;32m     73\u001b[0m         \u001b[0;32mexcept\u001b[0m \u001b[0mgrpc\u001b[0m\u001b[0;34m.\u001b[0m\u001b[0mRpcError\u001b[0m \u001b[0;32mas\u001b[0m \u001b[0mexc\u001b[0m\u001b[0;34m:\u001b[0m\u001b[0;34m\u001b[0m\u001b[0;34m\u001b[0m\u001b[0m\n\u001b[0;32m---> 74\u001b[0;31m             \u001b[0;32mraise\u001b[0m \u001b[0mexceptions\u001b[0m\u001b[0;34m.\u001b[0m\u001b[0mfrom_grpc_error\u001b[0m\u001b[0;34m(\u001b[0m\u001b[0mexc\u001b[0m\u001b[0;34m)\u001b[0m \u001b[0;32mfrom\u001b[0m \u001b[0mexc\u001b[0m\u001b[0;34m\u001b[0m\u001b[0;34m\u001b[0m\u001b[0m\n\u001b[0m\u001b[1;32m     75\u001b[0m \u001b[0;34m\u001b[0m\u001b[0m\n\u001b[1;32m     76\u001b[0m     \u001b[0;32mreturn\u001b[0m \u001b[0merror_remapped_callable\u001b[0m\u001b[0;34m\u001b[0m\u001b[0;34m\u001b[0m\u001b[0m\n",
            "\u001b[0;31mServiceUnavailable\u001b[0m: 503 DNS resolution failed for 1645167058.us-central1-1060807096482.vdb.vertexai.goog:443: C-ares status is not ARES_SUCCESS qtype=A name=1645167058.us-central1-1060807096482.vdb.vertexai.goog is_balancer=0: Domain name not found"
          ]
        }
      ],
      "source": [
        "response = lakeside_index_ep.find_neighbors(\n",
        "    deployed_index_id = index_name,\n",
        "    queries = [qry_emb[0]],\n",
        "    num_neighbors = 10\n",
        ")"
      ]
    },
    {
      "cell_type": "code",
      "execution_count": null,
      "id": "JvCYVlr4V14u",
      "metadata": {
        "id": "JvCYVlr4V14u"
      },
      "outputs": [],
      "source": [
        "\n",
        "\n",
        "matching_ids = [neighbor.id for sublist in response for neighbor in sublist]\n",
        "\n",
        "context = generate_context(matching_ids,data)\n",
        "prompt=f\"Based on the context delimited in backticks, answer the query. ```{context}``` {query}\"\n",
        "\n",
        "chat = model.start_chat(history=[])\n",
        "response = chat.send_message(prompt)\n",
        "print(response.text)"
      ]
    },
    {
      "cell_type": "code",
      "execution_count": 1,
      "id": "48d9d223",
      "metadata": {},
      "outputs": [],
      "source": [
        "from llama_index.core import PromptTemplate"
      ]
    },
    {
      "cell_type": "code",
      "execution_count": 2,
      "id": "7b3997a2",
      "metadata": {},
      "outputs": [],
      "source": [
        "faq_prompt_str = (\n",
        "    \"## Very Important Instructions\"\n",
        "    \"- Respond as if you were conversing with a person\\n\"\n",
        "    \"- Only answer with information provided in the context\\n\"\n",
        "    \"- Do NOT give 'additional help' OR 'additional information' OR 'notes' OR 'additional guidance\\n\"\n",
        "    \"- After providing answer, do NOT ask user to contact additional support\\n\"\n",
        "    \"- Do not answer unrelated questions about companies that are NOT MoneyGram like Western Union, Microsoft, etc.\\n\"\n",
        "    \"- Do not include information about unrelated companies that are NOT MoneyGram like Western Union, Microsoft, etc. in your answers\\n\"\n",
        ")\n",
        "\n",
        "faq_qa_tmpl_str = (\n",
        "    \"You are a friendly MoneyGram chatbot that chats with a user and answers their question concisely \"\n",
        "    \"using the below context. \"\n",
        "    \"If you cannot find an answer in the context, you \"\n",
        "    \"should respond with the following response 'Hmm, I'm sorry I can't help you with that'. \"\n",
        "    \"Format answers to maximize readability by ensuring each element of a list is separated by a newline. \"\n",
        "    \"Break up long paragraphs of text into smaller easier to read chunks. \"\n",
        "    \"\\n\"\n",
        "    \"Context information is below.\\n\"\n",
        "    \"---------------------\\n\"\n",
        "    \"{context_str}\\n\"\n",
        "    \"---------------------\\n\"\n",
        "    \"{prompt_str}\\n\"\n",
        "    \"---------------------\\n\"\n",
        "    \"Query: {query_str}\\n\"\n",
        "    \"Answer: \"\n",
        ")\n",
        "\n",
        "final_formatting = (\n",
        "    \"\"\"\n",
        "    Format the below text in to more readable format by breaking up long paragraphs of text into smaller easier to read chunks.\n",
        "    DO NOT add or generate any new text.\n",
        "\n",
        "    Text:\n",
        "\n",
        "    {chat_transcript_str}\n",
        "\n",
        "    \"\"\"\n",
        ")\n",
        "\n",
        "\n"
      ]
    },
    {
      "cell_type": "code",
      "execution_count": 3,
      "id": "b107c20a",
      "metadata": {},
      "outputs": [],
      "source": [
        "faq_qa_tmpl = PromptTemplate(faq_qa_tmpl_str.replace('{prompt_str}', faq_prompt_str))"
      ]
    },
    {
      "cell_type": "code",
      "execution_count": 4,
      "id": "a82f7d87",
      "metadata": {},
      "outputs": [
        {
          "data": {
            "text/plain": [
              "PromptTemplate(metadata={'prompt_type': <PromptType.CUSTOM: 'custom'>}, template_vars=['context_str', 'query_str'], kwargs={}, output_parser=None, template_var_mappings=None, function_mappings=None, template=\"You are a friendly MoneyGram chatbot that chats with a user and answers their question concisely using the below context. If you cannot find an answer in the context, you should respond with the following response 'Hmm, I'm sorry I can't help you with that'. Format answers to maximize readability by ensuring each element of a list is separated by a newline. Break up long paragraphs of text into smaller easier to read chunks. \\nContext information is below.\\n---------------------\\n{context_str}\\n---------------------\\n## Very Important Instructions- Respond as if you were conversing with a person\\n- Only answer with information provided in the context\\n- Do NOT give 'additional help' OR 'additional information' OR 'notes' OR 'additional guidance\\n- After providing answer, do NOT ask user to contact additional support\\n- Do not answer unrelated questions about companies that are NOT MoneyGram like Western Union, Microsoft, etc.\\n- Do not include information about unrelated companies that are NOT MoneyGram like Western Union, Microsoft, etc. in your answers\\n\\n---------------------\\nQuery: {query_str}\\nAnswer: \")"
            ]
          },
          "execution_count": 4,
          "metadata": {},
          "output_type": "execute_result"
        }
      ],
      "source": [
        "faq_qa_tmpl"
      ]
    },
    {
      "cell_type": "code",
      "execution_count": 5,
      "id": "dd2b567d",
      "metadata": {},
      "outputs": [],
      "source": [
        "import pandas as pd\n",
        "import numpy as np\n",
        "import json\n",
        "import os"
      ]
    },
    {
      "cell_type": "code",
      "execution_count": 17,
      "id": "b4ba250a",
      "metadata": {},
      "outputs": [
        {
          "name": "stdout",
          "output_type": "stream",
          "text": [
            "<map object at 0x0000018A1C059E40>\n",
            "[27, 3125, 823543, 285311670611, 302875106592253]\n"
          ]
        }
      ],
      "source": [
        "def mul(i):\n",
        "\n",
        "    return i ** i\n",
        "\n",
        "# Using the map function\n",
        "\n",
        "x = map(mul, (3, 5, 7, 11, 13))\n",
        "\n",
        "print (x)\n",
        "\n",
        "print(list(x))"
      ]
    },
    {
      "cell_type": "code",
      "execution_count": 32,
      "id": "d99d52be",
      "metadata": {},
      "outputs": [],
      "source": [
        "my_list = [2,3,4,5,6,7,8,9]\n",
        "\n",
        "updated_list = list(map(lambda x: x * 10, my_list))"
      ]
    },
    {
      "cell_type": "code",
      "execution_count": 33,
      "id": "003b4b81",
      "metadata": {},
      "outputs": [
        {
          "name": "stdout",
          "output_type": "stream",
          "text": [
            "[20, 30, 40, 50, 60, 70, 80, 90]\n"
          ]
        }
      ],
      "source": [
        "print((updated_list))"
      ]
    },
    {
      "cell_type": "code",
      "execution_count": 38,
      "id": "e1eec900",
      "metadata": {},
      "outputs": [],
      "source": [
        "single_dict = {\"name\": [\"A\",\"B\",\"C\",\"d\",\"B\"], \"age\":[12,23,56,44, 30], \"city\": [\"New York\",\"New York\",\"New York\",\"New York\",\"New York\"]}\n",
        "\n"
      ]
    },
    {
      "cell_type": "code",
      "execution_count": 39,
      "id": "af2d48fd",
      "metadata": {},
      "outputs": [
        {
          "data": {
            "text/html": [
              "<div>\n",
              "<style scoped>\n",
              "    .dataframe tbody tr th:only-of-type {\n",
              "        vertical-align: middle;\n",
              "    }\n",
              "\n",
              "    .dataframe tbody tr th {\n",
              "        vertical-align: top;\n",
              "    }\n",
              "\n",
              "    .dataframe thead th {\n",
              "        text-align: right;\n",
              "    }\n",
              "</style>\n",
              "<table border=\"1\" class=\"dataframe\">\n",
              "  <thead>\n",
              "    <tr style=\"text-align: right;\">\n",
              "      <th></th>\n",
              "      <th>name</th>\n",
              "      <th>age</th>\n",
              "      <th>city</th>\n",
              "    </tr>\n",
              "  </thead>\n",
              "  <tbody>\n",
              "    <tr>\n",
              "      <th>0</th>\n",
              "      <td>A</td>\n",
              "      <td>12</td>\n",
              "      <td>New York</td>\n",
              "    </tr>\n",
              "    <tr>\n",
              "      <th>1</th>\n",
              "      <td>B</td>\n",
              "      <td>23</td>\n",
              "      <td>New York</td>\n",
              "    </tr>\n",
              "    <tr>\n",
              "      <th>2</th>\n",
              "      <td>C</td>\n",
              "      <td>56</td>\n",
              "      <td>New York</td>\n",
              "    </tr>\n",
              "    <tr>\n",
              "      <th>3</th>\n",
              "      <td>d</td>\n",
              "      <td>44</td>\n",
              "      <td>New York</td>\n",
              "    </tr>\n",
              "    <tr>\n",
              "      <th>4</th>\n",
              "      <td>B</td>\n",
              "      <td>30</td>\n",
              "      <td>New York</td>\n",
              "    </tr>\n",
              "  </tbody>\n",
              "</table>\n",
              "</div>"
            ],
            "text/plain": [
              "  name  age      city\n",
              "0    A   12  New York\n",
              "1    B   23  New York\n",
              "2    C   56  New York\n",
              "3    d   44  New York\n",
              "4    B   30  New York"
            ]
          },
          "execution_count": 39,
          "metadata": {},
          "output_type": "execute_result"
        }
      ],
      "source": [
        "DF = pd.DataFrame(single_dict)\n",
        "DF"
      ]
    },
    {
      "cell_type": "code",
      "execution_count": 45,
      "id": "54b38529",
      "metadata": {},
      "outputs": [],
      "source": [
        "DF.to_csv('C:\\PycharmProjects\\RAG_Projects\\P1\\csv\\\\output4.csv', index=False)"
      ]
    },
    {
      "cell_type": "code",
      "execution_count": 46,
      "id": "3605014d",
      "metadata": {},
      "outputs": [],
      "source": [
        "import pandas as pd\n",
        "import glob\n",
        "\n",
        "df = pd.concat([pd.read_csv(f) for f in glob.glob('C:\\PycharmProjects\\RAG_Projects\\P1\\csv\\*.csv')], ignore_index=True)\n"
      ]
    },
    {
      "cell_type": "code",
      "execution_count": 47,
      "id": "4b6b5a6e",
      "metadata": {},
      "outputs": [
        {
          "data": {
            "text/html": [
              "<div>\n",
              "<style scoped>\n",
              "    .dataframe tbody tr th:only-of-type {\n",
              "        vertical-align: middle;\n",
              "    }\n",
              "\n",
              "    .dataframe tbody tr th {\n",
              "        vertical-align: top;\n",
              "    }\n",
              "\n",
              "    .dataframe thead th {\n",
              "        text-align: right;\n",
              "    }\n",
              "</style>\n",
              "<table border=\"1\" class=\"dataframe\">\n",
              "  <thead>\n",
              "    <tr style=\"text-align: right;\">\n",
              "      <th></th>\n",
              "      <th>name</th>\n",
              "      <th>age</th>\n",
              "      <th>city</th>\n",
              "    </tr>\n",
              "  </thead>\n",
              "  <tbody>\n",
              "    <tr>\n",
              "      <th>0</th>\n",
              "      <td>A</td>\n",
              "      <td>12</td>\n",
              "      <td>New York</td>\n",
              "    </tr>\n",
              "    <tr>\n",
              "      <th>1</th>\n",
              "      <td>B</td>\n",
              "      <td>23</td>\n",
              "      <td>New York</td>\n",
              "    </tr>\n",
              "    <tr>\n",
              "      <th>2</th>\n",
              "      <td>C</td>\n",
              "      <td>56</td>\n",
              "      <td>New York</td>\n",
              "    </tr>\n",
              "    <tr>\n",
              "      <th>3</th>\n",
              "      <td>d</td>\n",
              "      <td>44</td>\n",
              "      <td>New York</td>\n",
              "    </tr>\n",
              "    <tr>\n",
              "      <th>4</th>\n",
              "      <td>B</td>\n",
              "      <td>30</td>\n",
              "      <td>New York</td>\n",
              "    </tr>\n",
              "    <tr>\n",
              "      <th>5</th>\n",
              "      <td>A</td>\n",
              "      <td>12</td>\n",
              "      <td>New York</td>\n",
              "    </tr>\n",
              "    <tr>\n",
              "      <th>6</th>\n",
              "      <td>B</td>\n",
              "      <td>23</td>\n",
              "      <td>New York</td>\n",
              "    </tr>\n",
              "    <tr>\n",
              "      <th>7</th>\n",
              "      <td>C</td>\n",
              "      <td>56</td>\n",
              "      <td>New York</td>\n",
              "    </tr>\n",
              "    <tr>\n",
              "      <th>8</th>\n",
              "      <td>d</td>\n",
              "      <td>44</td>\n",
              "      <td>New York</td>\n",
              "    </tr>\n",
              "    <tr>\n",
              "      <th>9</th>\n",
              "      <td>B</td>\n",
              "      <td>30</td>\n",
              "      <td>New York</td>\n",
              "    </tr>\n",
              "    <tr>\n",
              "      <th>10</th>\n",
              "      <td>A</td>\n",
              "      <td>12</td>\n",
              "      <td>New York</td>\n",
              "    </tr>\n",
              "    <tr>\n",
              "      <th>11</th>\n",
              "      <td>B</td>\n",
              "      <td>23</td>\n",
              "      <td>New York</td>\n",
              "    </tr>\n",
              "    <tr>\n",
              "      <th>12</th>\n",
              "      <td>C</td>\n",
              "      <td>56</td>\n",
              "      <td>New York</td>\n",
              "    </tr>\n",
              "    <tr>\n",
              "      <th>13</th>\n",
              "      <td>d</td>\n",
              "      <td>44</td>\n",
              "      <td>New York</td>\n",
              "    </tr>\n",
              "    <tr>\n",
              "      <th>14</th>\n",
              "      <td>B</td>\n",
              "      <td>30</td>\n",
              "      <td>New York</td>\n",
              "    </tr>\n",
              "    <tr>\n",
              "      <th>15</th>\n",
              "      <td>A</td>\n",
              "      <td>12</td>\n",
              "      <td>New York</td>\n",
              "    </tr>\n",
              "    <tr>\n",
              "      <th>16</th>\n",
              "      <td>B</td>\n",
              "      <td>23</td>\n",
              "      <td>New York</td>\n",
              "    </tr>\n",
              "    <tr>\n",
              "      <th>17</th>\n",
              "      <td>C</td>\n",
              "      <td>56</td>\n",
              "      <td>New York</td>\n",
              "    </tr>\n",
              "    <tr>\n",
              "      <th>18</th>\n",
              "      <td>d</td>\n",
              "      <td>44</td>\n",
              "      <td>New York</td>\n",
              "    </tr>\n",
              "    <tr>\n",
              "      <th>19</th>\n",
              "      <td>B</td>\n",
              "      <td>30</td>\n",
              "      <td>New York</td>\n",
              "    </tr>\n",
              "    <tr>\n",
              "      <th>20</th>\n",
              "      <td>A</td>\n",
              "      <td>12</td>\n",
              "      <td>New York</td>\n",
              "    </tr>\n",
              "    <tr>\n",
              "      <th>21</th>\n",
              "      <td>B</td>\n",
              "      <td>23</td>\n",
              "      <td>New York</td>\n",
              "    </tr>\n",
              "    <tr>\n",
              "      <th>22</th>\n",
              "      <td>C</td>\n",
              "      <td>56</td>\n",
              "      <td>New York</td>\n",
              "    </tr>\n",
              "    <tr>\n",
              "      <th>23</th>\n",
              "      <td>d</td>\n",
              "      <td>44</td>\n",
              "      <td>New York</td>\n",
              "    </tr>\n",
              "    <tr>\n",
              "      <th>24</th>\n",
              "      <td>B</td>\n",
              "      <td>30</td>\n",
              "      <td>New York</td>\n",
              "    </tr>\n",
              "  </tbody>\n",
              "</table>\n",
              "</div>"
            ],
            "text/plain": [
              "   name  age      city\n",
              "0     A   12  New York\n",
              "1     B   23  New York\n",
              "2     C   56  New York\n",
              "3     d   44  New York\n",
              "4     B   30  New York\n",
              "5     A   12  New York\n",
              "6     B   23  New York\n",
              "7     C   56  New York\n",
              "8     d   44  New York\n",
              "9     B   30  New York\n",
              "10    A   12  New York\n",
              "11    B   23  New York\n",
              "12    C   56  New York\n",
              "13    d   44  New York\n",
              "14    B   30  New York\n",
              "15    A   12  New York\n",
              "16    B   23  New York\n",
              "17    C   56  New York\n",
              "18    d   44  New York\n",
              "19    B   30  New York\n",
              "20    A   12  New York\n",
              "21    B   23  New York\n",
              "22    C   56  New York\n",
              "23    d   44  New York\n",
              "24    B   30  New York"
            ]
          },
          "execution_count": 47,
          "metadata": {},
          "output_type": "execute_result"
        }
      ],
      "source": [
        "df"
      ]
    },
    {
      "cell_type": "code",
      "execution_count": 94,
      "id": "e78d882b",
      "metadata": {},
      "outputs": [
        {
          "data": {
            "text/plain": [
              "name                            ABCdBABCdBABCdBABCdBABCdB\n",
              "age                                                   825\n",
              "city    New YorkNew YorkNew YorkNew YorkNew YorkNew Yo...\n",
              "dtype: object"
            ]
          },
          "execution_count": 94,
          "metadata": {},
          "output_type": "execute_result"
        }
      ],
      "source": [
        "df.sum()"
      ]
    },
    {
      "cell_type": "code",
      "execution_count": 96,
      "id": "9f408b92",
      "metadata": {},
      "outputs": [
        {
          "data": {
            "text/plain": [
              "33.0"
            ]
          },
          "execution_count": 96,
          "metadata": {},
          "output_type": "execute_result"
        }
      ],
      "source": [
        "df.age.mean()\n"
      ]
    },
    {
      "cell_type": "code",
      "execution_count": 97,
      "id": "8e8593a3",
      "metadata": {},
      "outputs": [
        {
          "data": {
            "text/plain": [
              "30.0"
            ]
          },
          "execution_count": 97,
          "metadata": {},
          "output_type": "execute_result"
        }
      ],
      "source": [
        "df.age.median()\n"
      ]
    },
    {
      "cell_type": "code",
      "execution_count": 98,
      "id": "a22b010a",
      "metadata": {},
      "outputs": [
        {
          "data": {
            "text/plain": [
              "12"
            ]
          },
          "execution_count": 98,
          "metadata": {},
          "output_type": "execute_result"
        }
      ],
      "source": [
        "df.age.min()\n"
      ]
    },
    {
      "cell_type": "code",
      "execution_count": 99,
      "id": "4012294f",
      "metadata": {},
      "outputs": [
        {
          "data": {
            "text/plain": [
              "56"
            ]
          },
          "execution_count": 99,
          "metadata": {},
          "output_type": "execute_result"
        }
      ],
      "source": [
        "df.age.max()\n"
      ]
    },
    {
      "cell_type": "code",
      "execution_count": 100,
      "id": "fe0dc592",
      "metadata": {},
      "outputs": [
        {
          "data": {
            "text/plain": [
              "25"
            ]
          },
          "execution_count": 100,
          "metadata": {},
          "output_type": "execute_result"
        }
      ],
      "source": [
        "df.age.count()\n"
      ]
    },
    {
      "cell_type": "code",
      "execution_count": 101,
      "id": "52cc1aca",
      "metadata": {},
      "outputs": [
        {
          "data": {
            "text/plain": [
              "250.0"
            ]
          },
          "execution_count": 101,
          "metadata": {},
          "output_type": "execute_result"
        }
      ],
      "source": [
        "df.age.var()\n"
      ]
    },
    {
      "cell_type": "code",
      "execution_count": 102,
      "id": "f42df3aa",
      "metadata": {},
      "outputs": [
        {
          "data": {
            "text/plain": [
              "15.811388300841896"
            ]
          },
          "execution_count": 102,
          "metadata": {},
          "output_type": "execute_result"
        }
      ],
      "source": [
        "df.age.std()\n"
      ]
    },
    {
      "cell_type": "code",
      "execution_count": null,
      "id": "9af7aa7d",
      "metadata": {},
      "outputs": [],
      "source": []
    },
    {
      "cell_type": "code",
      "execution_count": null,
      "id": "e3d96364",
      "metadata": {},
      "outputs": [],
      "source": []
    },
    {
      "cell_type": "code",
      "execution_count": null,
      "id": "1724a870",
      "metadata": {},
      "outputs": [],
      "source": []
    },
    {
      "cell_type": "code",
      "execution_count": 104,
      "id": "7117b897",
      "metadata": {},
      "outputs": [],
      "source": [
        "# df.age.corr()"
      ]
    },
    {
      "cell_type": "code",
      "execution_count": 54,
      "id": "5f99a08d",
      "metadata": {},
      "outputs": [],
      "source": [
        "your_list = [10, 20, 4, 45, 99, 20, 99]"
      ]
    },
    {
      "cell_type": "code",
      "execution_count": 57,
      "id": "e5e14ed6",
      "metadata": {},
      "outputs": [
        {
          "data": {
            "text/plain": [
              "4"
            ]
          },
          "execution_count": 57,
          "metadata": {},
          "output_type": "execute_result"
        }
      ],
      "source": [
        "second_highest = sorted(set(your_list))[0]\n",
        "second_highest"
      ]
    },
    {
      "cell_type": "code",
      "execution_count": 59,
      "id": "b9981cba",
      "metadata": {},
      "outputs": [
        {
          "name": "stdout",
          "output_type": "stream",
          "text": [
            "-inf -inf\n",
            "10 -inf\n",
            "20 10\n",
            "45 20\n",
            "99 45\n",
            "second_highest number is 45 and highest number is 99\n"
          ]
        }
      ],
      "source": [
        "your_list = [10, 20, 4, 45, 99, 20, 99]\n",
        "\n",
        "highest = second_highest = float('-inf')  # Initialize with negative infinity\n",
        "print(highest,second_highest)\n",
        "\n",
        "for num in your_list:\n",
        "    if num > highest:\n",
        "        second_highest = highest  # Update second-highest\n",
        "        highest = num  # Update highest\n",
        "        print(highest,second_highest)\n",
        "    elif num > second_highest and num != highest:\n",
        "        second_highest = num  # Update second-highest if it's not equal to the highest\n",
        "        print(highest,second_highest)\n",
        "print(f\"second_highest number is {second_highest} and highest number is {highest}\")  # Output: 45\n",
        "\n"
      ]
    },
    {
      "cell_type": "code",
      "execution_count": 60,
      "id": "d1b10ae1",
      "metadata": {},
      "outputs": [
        {
          "name": "stdout",
          "output_type": "stream",
          "text": [
            "7\n",
            "[4, 10, 20, 20, 45, 99, 99]\n"
          ]
        }
      ],
      "source": [
        "n = len(your_list)\n",
        "print(n)\n",
        "for i in range(n):\n",
        "    for j in range(n - 1): \n",
        "        print(your_list[j],your_list[j+1]) # Compare each pair of adjacent elements\n",
        "        if your_list[j] > your_list[j + 1]:  # Swap if needed\n",
        "            your_list[j], your_list[j + 1] = your_list[j + 1], your_list[j]\n",
        "print(your_list)"
      ]
    },
    {
      "cell_type": "code",
      "execution_count": 61,
      "id": "77a92a08",
      "metadata": {},
      "outputs": [],
      "source": [
        "def bubblesort(list1):  \n",
        "    n=len(list1)\n",
        "    for i in range(n):\n",
        "        for j in range(n-1):\n",
        "            print(list1[j],list1[j+1])\n",
        "            if list1[j]>list1[j+1]:\n",
        "                print(\"True\")\n",
        "                list1[j],list1[j+1]=list1[j+1],list1[j]\n",
        "    return list1"
      ]
    },
    {
      "cell_type": "code",
      "execution_count": 63,
      "id": "171738f2",
      "metadata": {},
      "outputs": [],
      "source": [
        "arr = [64, 34, 25, 12, 22, 11, 90]"
      ]
    },
    {
      "cell_type": "code",
      "execution_count": 64,
      "id": "da927b0b",
      "metadata": {},
      "outputs": [
        {
          "name": "stdout",
          "output_type": "stream",
          "text": [
            "64 34\n",
            "True\n",
            "64 25\n",
            "True\n",
            "64 12\n",
            "True\n",
            "64 22\n",
            "True\n",
            "64 11\n",
            "True\n",
            "64 90\n",
            "34 25\n",
            "True\n",
            "34 12\n",
            "True\n",
            "34 22\n",
            "True\n",
            "34 11\n",
            "True\n",
            "34 64\n",
            "64 90\n",
            "25 12\n",
            "True\n",
            "25 22\n",
            "True\n",
            "25 11\n",
            "True\n",
            "25 34\n",
            "34 64\n",
            "64 90\n",
            "12 22\n",
            "22 11\n",
            "True\n",
            "22 25\n",
            "25 34\n",
            "34 64\n",
            "64 90\n",
            "12 11\n",
            "True\n",
            "12 22\n",
            "22 25\n",
            "25 34\n",
            "34 64\n",
            "64 90\n",
            "11 12\n",
            "12 22\n",
            "22 25\n",
            "25 34\n",
            "34 64\n",
            "64 90\n",
            "11 12\n",
            "12 22\n",
            "22 25\n",
            "25 34\n",
            "34 64\n",
            "64 90\n"
          ]
        },
        {
          "data": {
            "text/plain": [
              "[11, 12, 22, 25, 34, 64, 90]"
            ]
          },
          "execution_count": 64,
          "metadata": {},
          "output_type": "execute_result"
        }
      ],
      "source": [
        "result=bubblesort(arr)\n",
        "result"
      ]
    },
    {
      "cell_type": "code",
      "execution_count": 65,
      "id": "1d4e39f0",
      "metadata": {},
      "outputs": [
        {
          "name": "stdout",
          "output_type": "stream",
          "text": [
            "Counter({'e': 2, 'd': 2, 'm': 1, 'b': 1, 'i': 1, 'n': 1, 'g': 1, 's': 1})\n"
          ]
        }
      ],
      "source": [
        "from collections import Counter\n",
        "\n",
        "text = \"embeddings\"\n",
        "word_count = Counter(text)  # Count each character in the string\n",
        "print(word_count)\n"
      ]
    },
    {
      "cell_type": "code",
      "execution_count": 69,
      "id": "7082b30a",
      "metadata": {},
      "outputs": [],
      "source": [
        "text = \"embeddinembeddingsembeddingsgs\""
      ]
    },
    {
      "cell_type": "code",
      "execution_count": 70,
      "id": "73bd4c28",
      "metadata": {},
      "outputs": [],
      "source": [
        "count={}"
      ]
    },
    {
      "cell_type": "code",
      "execution_count": 71,
      "id": "4c450441",
      "metadata": {},
      "outputs": [
        {
          "name": "stdout",
          "output_type": "stream",
          "text": [
            "{'e': 6, 'm': 3, 'b': 3, 'd': 6, 'i': 3, 'n': 3, 'g': 3, 's': 3}\n"
          ]
        }
      ],
      "source": [
        "for i in text:\n",
        "    count[i]=count.get(i,0)+1\n",
        "print(count)\n"
      ]
    },
    {
      "cell_type": "code",
      "execution_count": 72,
      "id": "e690dcdd",
      "metadata": {},
      "outputs": [
        {
          "name": "stdout",
          "output_type": "stream",
          "text": [
            "John\n"
          ]
        }
      ],
      "source": [
        "import json\n",
        "\n",
        "# Sample JSON file\n",
        "json_data = '{\"name\": \"John\", \"age\": 30, \"city\": \"New York\"}'\n",
        "\n",
        "# Parse JSON\n",
        "data = json.loads(json_data)  # Convert JSON string to Python dictionary\n",
        "print(data[\"name\"])  # Output: John\n"
      ]
    },
    {
      "cell_type": "code",
      "execution_count": 73,
      "id": "ca0d80d3",
      "metadata": {},
      "outputs": [],
      "source": [
        "data = {\n",
        "    \"name\": \"Alice\",\n",
        "    \"age\": 25,\n",
        "    \"city\": \"Los Angeles\"\n",
        "}\n"
      ]
    },
    {
      "cell_type": "code",
      "execution_count": 74,
      "id": "a03476a9",
      "metadata": {},
      "outputs": [],
      "source": [
        "# Write JSON to a file\n",
        "with open(\"data.json\", \"w\") as file:\n",
        "    json.dump(data, file, indent=4)"
      ]
    },
    {
      "cell_type": "code",
      "execution_count": 75,
      "id": "8020363a",
      "metadata": {},
      "outputs": [
        {
          "data": {
            "text/plain": [
              "{'name': 'Mike', 'skills': ['Python', 'SQL'], 'age': 35}"
            ]
          },
          "execution_count": 75,
          "metadata": {},
          "output_type": "execute_result"
        }
      ],
      "source": [
        "import json\n",
        "\n",
        "json_data = '{\"name\": \"Mike\", \"skills\": [\"Python\", \"SQL\"], \"age\": 35}'\n",
        "\n",
        "data = json.loads(json_data)\n",
        "data\n"
      ]
    },
    {
      "cell_type": "code",
      "execution_count": 76,
      "id": "5e54b7b2",
      "metadata": {},
      "outputs": [
        {
          "name": "stdout",
          "output_type": "stream",
          "text": [
            "Name: Mike\n",
            "Skills: Python, SQL\n"
          ]
        }
      ],
      "source": [
        "print(\"Name:\", data[\"name\"])  # Output: Mike\n",
        "print(\"Skills:\", \", \".join(data[\"skills\"]))  # Output: Python, SQL"
      ]
    },
    {
      "cell_type": "code",
      "execution_count": 80,
      "id": "92724d2d",
      "metadata": {},
      "outputs": [
        {
          "data": {
            "text/plain": [
              "'Python, SQL'"
            ]
          },
          "execution_count": 80,
          "metadata": {},
          "output_type": "execute_result"
        }
      ],
      "source": [
        "\", \".join(data[\"skills\"])"
      ]
    },
    {
      "cell_type": "code",
      "execution_count": 81,
      "id": "a31d13ab",
      "metadata": {},
      "outputs": [
        {
          "name": "stdout",
          "output_type": "stream",
          "text": [
            "Skills: ['Python', 'SQL']\n"
          ]
        }
      ],
      "source": [
        "print(\"Skills:\", data[\"skills\"])"
      ]
    },
    {
      "cell_type": "code",
      "execution_count": 83,
      "id": "21f3a0b2",
      "metadata": {},
      "outputs": [
        {
          "name": "stdout",
          "output_type": "stream",
          "text": [
            "[{'id': 3, 'name': 'Cathy', 'score': 78}]\n",
            "[\n",
            "    {\n",
            "        \"id\": 1,\n",
            "        \"name\": \"Anna\",\n",
            "        \"score\": 85\n",
            "    },\n",
            "    {\n",
            "        \"id\": 2,\n",
            "        \"name\": \"Bob\",\n",
            "        \"score\": 92\n",
            "    }\n",
            "]\n"
          ]
        }
      ],
      "source": [
        "import json\n",
        "\n",
        "json_data = '''\n",
        "[\n",
        "    {\"id\": 1, \"name\": \"Anna\", \"score\": 85},\n",
        "    {\"id\": 2, \"name\": \"Bob\", \"score\": 92},\n",
        "    {\"id\": 3, \"name\": \"Cathy\", \"score\": 78}\n",
        "]\n",
        "'''\n",
        "\n",
        "data = json.loads(json_data)\n",
        "d=[x for x in data if x['score']<80]\n",
        "print(d)\n",
        "filtered_data = [student for student in data if student[\"score\"] > 80]\n",
        "\n",
        "print(json.dumps(filtered_data, indent=4))"
      ]
    },
    {
      "cell_type": "code",
      "execution_count": 84,
      "id": "e03a11e7",
      "metadata": {},
      "outputs": [
        {
          "name": "stdout",
          "output_type": "stream",
          "text": [
            "hello world! this is text data cleaning.\n"
          ]
        }
      ],
      "source": [
        "text = \"Hello World! This is Text Data Cleaning.\"\n",
        "cleaned_text = text.lower()\n",
        "print(cleaned_text)\n",
        "# Output: hello world! this is text data cleaning.\n"
      ]
    },
    {
      "cell_type": "code",
      "execution_count": 85,
      "id": "6ebb427d",
      "metadata": {},
      "outputs": [
        {
          "name": "stdout",
          "output_type": "stream",
          "text": [
            "Hello World This is textdata cleaning\n"
          ]
        }
      ],
      "source": [
        "import string\n",
        "\n",
        "text = \"Hello, World! This is: text-data cleaning?\"\n",
        "cleaned_text = text.translate(str.maketrans(\"\", \"\", string.punctuation))\n",
        "print(cleaned_text)\n",
        "# Output: Hello World This is textdata cleaning\n"
      ]
    },
    {
      "cell_type": "code",
      "execution_count": 88,
      "id": "85143faa",
      "metadata": {},
      "outputs": [
        {
          "name": "stdout",
          "output_type": "stream",
          "text": [
            "This is text data with numbers .\n"
          ]
        }
      ],
      "source": [
        "import re\n",
        "\n",
        "text = \"This is text data with numbers 12345.\"\n",
        "cleaned_text = re.sub(r'\\d+', '', text)\n",
        "print(cleaned_text)\n",
        "# Output: This is text data with numbers .\n"
      ]
    },
    {
      "cell_type": "code",
      "execution_count": 89,
      "id": "e4022109",
      "metadata": {},
      "outputs": [
        {
          "name": "stdout",
          "output_type": "stream",
          "text": [
            "This is text data cleaning.\n"
          ]
        }
      ],
      "source": [
        "text = \"   This is   text   data   cleaning.   \"\n",
        "cleaned_text = \" \".join(text.split())\n",
        "print(cleaned_text)\n",
        "# Output: This is text data cleaning.\n"
      ]
    },
    {
      "cell_type": "code",
      "execution_count": 90,
      "id": "a4bdede0",
      "metadata": {},
      "outputs": [
        {
          "data": {
            "text/plain": [
              "['This', 'is', 'text', 'data', 'cleaning.']"
            ]
          },
          "execution_count": 90,
          "metadata": {},
          "output_type": "execute_result"
        }
      ],
      "source": [
        "text.split()"
      ]
    },
    {
      "cell_type": "code",
      "execution_count": 1,
      "id": "6df6358d",
      "metadata": {},
      "outputs": [],
      "source": [
        "# from nltk.corpus import stopwords\n",
        "# import nltk\n",
        "# nltk.download('stopwords')\n",
        "\n",
        "# text = \"This is a sample text for cleaning stopwords.\"\n",
        "# stop_words = set(stopwords.words('english'))\n",
        "# cleaned_text = \" \".join(word for word in text.split() if word.lower() not in stop_words)\n",
        "# print(cleaned_text)\n",
        "# # Output: sample text cleaning stopwords.\n"
      ]
    },
    {
      "cell_type": "code",
      "execution_count": 2,
      "id": "10ecaa42",
      "metadata": {},
      "outputs": [],
      "source": [
        "# from nltk.tokenize import word_tokenize\n",
        "# nltk.download('punkt')\n",
        "\n",
        "# text = \"This is a sample text for tokenization.\"\n",
        "# tokens = word_tokenize(text)\n",
        "# print(tokens)\n",
        "# # Output: ['This', 'is', 'a', 'sample', 'text', 'for', 'tokenization', '.']\n"
      ]
    },
    {
      "cell_type": "code",
      "execution_count": 3,
      "id": "1e2688f1",
      "metadata": {},
      "outputs": [
        {
          "name": "stdout",
          "output_type": "stream",
          "text": [
            "1\n",
            "2\n",
            "3\n",
            "Index: 0, Value: 1\n",
            "Index: 1, Value: 2\n",
            "Index: 2, Value: 3\n"
          ]
        }
      ],
      "source": [
        "my_list = [1, 2, 3]\n",
        "\n",
        "# Using a for loop\n",
        "for item in my_list:\n",
        "    print(item)\n",
        "\n",
        "# Using enumerate for index and value\n",
        "for index, value in enumerate(my_list):\n",
        "    print(f\"Index: {index}, Value: {value}\")\n"
      ]
    },
    {
      "cell_type": "code",
      "execution_count": 4,
      "id": "d1b6342a",
      "metadata": {},
      "outputs": [],
      "source": [
        "class MyClass:\n",
        "    # Class attributes\n",
        "    class_attribute = \"This is a class attribute\"\n",
        "\n",
        "    def __init__(self, attribute1, attribute2):\n",
        "        # Instance attributes\n",
        "        self.attribute1 = attribute1\n",
        "        self.attribute2 = attribute2\n",
        "\n",
        "    def my_method(self):\n",
        "        print(\"This is a method of MyClass\")\n",
        "\n",
        "# Create an object\n",
        "my_object = MyClass(\"value1\", \"value2\")"
      ]
    },
    {
      "cell_type": "code",
      "execution_count": 5,
      "id": "c8d821ce",
      "metadata": {},
      "outputs": [
        {
          "data": {
            "text/plain": [
              "'value1'"
            ]
          },
          "execution_count": 5,
          "metadata": {},
          "output_type": "execute_result"
        }
      ],
      "source": [
        "my_object.attribute1"
      ]
    },
    {
      "cell_type": "code",
      "execution_count": 6,
      "id": "33abce7f",
      "metadata": {},
      "outputs": [
        {
          "name": "stdout",
          "output_type": "stream",
          "text": [
            "This is a method of MyClass\n"
          ]
        }
      ],
      "source": [
        "my_object.my_method()"
      ]
    },
    {
      "cell_type": "code",
      "execution_count": null,
      "id": "f51bd521",
      "metadata": {},
      "outputs": [],
      "source": []
    }
  ],
  "metadata": {
    "colab": {
      "name": "colab0 (May 14, 2024, 2:33:44 PM)",
      "provenance": []
    },
    "kernelspec": {
      "display_name": "venv",
      "language": "python",
      "name": "python3"
    },
    "language_info": {
      "codemirror_mode": {
        "name": "ipython",
        "version": 3
      },
      "file_extension": ".py",
      "mimetype": "text/x-python",
      "name": "python",
      "nbconvert_exporter": "python",
      "pygments_lexer": "ipython3",
      "version": "3.10.0"
    }
  },
  "nbformat": 4,
  "nbformat_minor": 5
}
